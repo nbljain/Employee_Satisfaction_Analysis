{
 "cells": [
  {
   "cell_type": "code",
   "execution_count": 1,
   "id": "c107b7c9",
   "metadata": {},
   "outputs": [],
   "source": [
    "import numpy as np\n",
    "import pandas as pd\n",
    "import warnings\n",
    "warnings.filterwarnings(\"ignore\")"
   ]
  },
  {
   "cell_type": "code",
   "execution_count": 2,
   "id": "5fe4b68d",
   "metadata": {},
   "outputs": [
    {
     "data": {
      "text/html": [
       "<div>\n",
       "<style scoped>\n",
       "    .dataframe tbody tr th:only-of-type {\n",
       "        vertical-align: middle;\n",
       "    }\n",
       "\n",
       "    .dataframe tbody tr th {\n",
       "        vertical-align: top;\n",
       "    }\n",
       "\n",
       "    .dataframe thead th {\n",
       "        text-align: right;\n",
       "    }\n",
       "</style>\n",
       "<table border=\"1\" class=\"dataframe\">\n",
       "  <thead>\n",
       "    <tr style=\"text-align: right;\">\n",
       "      <th></th>\n",
       "      <th>satisfaction_level</th>\n",
       "      <th>last_evaluation</th>\n",
       "      <th>number_project</th>\n",
       "      <th>average_montly_hours</th>\n",
       "      <th>time_spend_company</th>\n",
       "      <th>Work_accident</th>\n",
       "      <th>left</th>\n",
       "      <th>promotion_last_5years</th>\n",
       "      <th>Department</th>\n",
       "      <th>salary</th>\n",
       "    </tr>\n",
       "  </thead>\n",
       "  <tbody>\n",
       "    <tr>\n",
       "      <th>0</th>\n",
       "      <td>0.38</td>\n",
       "      <td>0.53</td>\n",
       "      <td>2</td>\n",
       "      <td>157</td>\n",
       "      <td>3</td>\n",
       "      <td>0</td>\n",
       "      <td>1</td>\n",
       "      <td>0</td>\n",
       "      <td>sales</td>\n",
       "      <td>low</td>\n",
       "    </tr>\n",
       "    <tr>\n",
       "      <th>1</th>\n",
       "      <td>0.80</td>\n",
       "      <td>0.86</td>\n",
       "      <td>5</td>\n",
       "      <td>262</td>\n",
       "      <td>6</td>\n",
       "      <td>0</td>\n",
       "      <td>1</td>\n",
       "      <td>0</td>\n",
       "      <td>sales</td>\n",
       "      <td>medium</td>\n",
       "    </tr>\n",
       "    <tr>\n",
       "      <th>2</th>\n",
       "      <td>0.11</td>\n",
       "      <td>0.88</td>\n",
       "      <td>7</td>\n",
       "      <td>272</td>\n",
       "      <td>4</td>\n",
       "      <td>0</td>\n",
       "      <td>1</td>\n",
       "      <td>0</td>\n",
       "      <td>sales</td>\n",
       "      <td>medium</td>\n",
       "    </tr>\n",
       "    <tr>\n",
       "      <th>3</th>\n",
       "      <td>0.72</td>\n",
       "      <td>0.87</td>\n",
       "      <td>5</td>\n",
       "      <td>223</td>\n",
       "      <td>5</td>\n",
       "      <td>0</td>\n",
       "      <td>1</td>\n",
       "      <td>0</td>\n",
       "      <td>sales</td>\n",
       "      <td>low</td>\n",
       "    </tr>\n",
       "    <tr>\n",
       "      <th>4</th>\n",
       "      <td>0.37</td>\n",
       "      <td>0.52</td>\n",
       "      <td>2</td>\n",
       "      <td>159</td>\n",
       "      <td>3</td>\n",
       "      <td>0</td>\n",
       "      <td>1</td>\n",
       "      <td>0</td>\n",
       "      <td>sales</td>\n",
       "      <td>low</td>\n",
       "    </tr>\n",
       "  </tbody>\n",
       "</table>\n",
       "</div>"
      ],
      "text/plain": [
       "   satisfaction_level  last_evaluation  number_project  average_montly_hours  \\\n",
       "0                0.38             0.53               2                   157   \n",
       "1                0.80             0.86               5                   262   \n",
       "2                0.11             0.88               7                   272   \n",
       "3                0.72             0.87               5                   223   \n",
       "4                0.37             0.52               2                   159   \n",
       "\n",
       "   time_spend_company  Work_accident  left  promotion_last_5years Department  \\\n",
       "0                   3              0     1                      0      sales   \n",
       "1                   6              0     1                      0      sales   \n",
       "2                   4              0     1                      0      sales   \n",
       "3                   5              0     1                      0      sales   \n",
       "4                   3              0     1                      0      sales   \n",
       "\n",
       "   salary  \n",
       "0     low  \n",
       "1  medium  \n",
       "2  medium  \n",
       "3     low  \n",
       "4     low  "
      ]
     },
     "execution_count": 2,
     "metadata": {},
     "output_type": "execute_result"
    }
   ],
   "source": [
    "df = pd.read_csv(\"HR_comma_sep.csv\")\n",
    "df.head()"
   ]
  },
  {
   "cell_type": "code",
   "execution_count": 3,
   "id": "72d0cdb7",
   "metadata": {},
   "outputs": [
    {
     "data": {
      "text/plain": [
       "satisfaction_level        92\n",
       "last_evaluation           65\n",
       "number_project             6\n",
       "average_montly_hours     215\n",
       "time_spend_company         8\n",
       "Work_accident              2\n",
       "left                       2\n",
       "promotion_last_5years      2\n",
       "Department                10\n",
       "salary                     3\n",
       "dtype: int64"
      ]
     },
     "execution_count": 3,
     "metadata": {},
     "output_type": "execute_result"
    }
   ],
   "source": [
    "df.nunique()"
   ]
  },
  {
   "cell_type": "code",
   "execution_count": 4,
   "id": "02b03439",
   "metadata": {},
   "outputs": [
    {
     "data": {
      "text/html": [
       "<div>\n",
       "<style scoped>\n",
       "    .dataframe tbody tr th:only-of-type {\n",
       "        vertical-align: middle;\n",
       "    }\n",
       "\n",
       "    .dataframe tbody tr th {\n",
       "        vertical-align: top;\n",
       "    }\n",
       "\n",
       "    .dataframe thead th {\n",
       "        text-align: right;\n",
       "    }\n",
       "</style>\n",
       "<table border=\"1\" class=\"dataframe\">\n",
       "  <thead>\n",
       "    <tr style=\"text-align: right;\">\n",
       "      <th></th>\n",
       "      <th>satisfaction_level</th>\n",
       "      <th>last_evaluation</th>\n",
       "      <th>number_project</th>\n",
       "      <th>average_montly_hours</th>\n",
       "      <th>time_spend_company</th>\n",
       "      <th>Work_accident</th>\n",
       "      <th>left</th>\n",
       "      <th>promotion_last_5years</th>\n",
       "    </tr>\n",
       "  </thead>\n",
       "  <tbody>\n",
       "    <tr>\n",
       "      <th>count</th>\n",
       "      <td>14999.000000</td>\n",
       "      <td>14999.000000</td>\n",
       "      <td>14999.000000</td>\n",
       "      <td>14999.000000</td>\n",
       "      <td>14999.000000</td>\n",
       "      <td>14999.000000</td>\n",
       "      <td>14999.000000</td>\n",
       "      <td>14999.000000</td>\n",
       "    </tr>\n",
       "    <tr>\n",
       "      <th>mean</th>\n",
       "      <td>0.612834</td>\n",
       "      <td>0.716102</td>\n",
       "      <td>3.803054</td>\n",
       "      <td>201.050337</td>\n",
       "      <td>3.498233</td>\n",
       "      <td>0.144610</td>\n",
       "      <td>0.238083</td>\n",
       "      <td>0.021268</td>\n",
       "    </tr>\n",
       "    <tr>\n",
       "      <th>std</th>\n",
       "      <td>0.248631</td>\n",
       "      <td>0.171169</td>\n",
       "      <td>1.232592</td>\n",
       "      <td>49.943099</td>\n",
       "      <td>1.460136</td>\n",
       "      <td>0.351719</td>\n",
       "      <td>0.425924</td>\n",
       "      <td>0.144281</td>\n",
       "    </tr>\n",
       "    <tr>\n",
       "      <th>min</th>\n",
       "      <td>0.090000</td>\n",
       "      <td>0.360000</td>\n",
       "      <td>2.000000</td>\n",
       "      <td>96.000000</td>\n",
       "      <td>2.000000</td>\n",
       "      <td>0.000000</td>\n",
       "      <td>0.000000</td>\n",
       "      <td>0.000000</td>\n",
       "    </tr>\n",
       "    <tr>\n",
       "      <th>25%</th>\n",
       "      <td>0.440000</td>\n",
       "      <td>0.560000</td>\n",
       "      <td>3.000000</td>\n",
       "      <td>156.000000</td>\n",
       "      <td>3.000000</td>\n",
       "      <td>0.000000</td>\n",
       "      <td>0.000000</td>\n",
       "      <td>0.000000</td>\n",
       "    </tr>\n",
       "    <tr>\n",
       "      <th>50%</th>\n",
       "      <td>0.640000</td>\n",
       "      <td>0.720000</td>\n",
       "      <td>4.000000</td>\n",
       "      <td>200.000000</td>\n",
       "      <td>3.000000</td>\n",
       "      <td>0.000000</td>\n",
       "      <td>0.000000</td>\n",
       "      <td>0.000000</td>\n",
       "    </tr>\n",
       "    <tr>\n",
       "      <th>75%</th>\n",
       "      <td>0.820000</td>\n",
       "      <td>0.870000</td>\n",
       "      <td>5.000000</td>\n",
       "      <td>245.000000</td>\n",
       "      <td>4.000000</td>\n",
       "      <td>0.000000</td>\n",
       "      <td>0.000000</td>\n",
       "      <td>0.000000</td>\n",
       "    </tr>\n",
       "    <tr>\n",
       "      <th>max</th>\n",
       "      <td>1.000000</td>\n",
       "      <td>1.000000</td>\n",
       "      <td>7.000000</td>\n",
       "      <td>310.000000</td>\n",
       "      <td>10.000000</td>\n",
       "      <td>1.000000</td>\n",
       "      <td>1.000000</td>\n",
       "      <td>1.000000</td>\n",
       "    </tr>\n",
       "  </tbody>\n",
       "</table>\n",
       "</div>"
      ],
      "text/plain": [
       "       satisfaction_level  last_evaluation  number_project  \\\n",
       "count        14999.000000     14999.000000    14999.000000   \n",
       "mean             0.612834         0.716102        3.803054   \n",
       "std              0.248631         0.171169        1.232592   \n",
       "min              0.090000         0.360000        2.000000   \n",
       "25%              0.440000         0.560000        3.000000   \n",
       "50%              0.640000         0.720000        4.000000   \n",
       "75%              0.820000         0.870000        5.000000   \n",
       "max              1.000000         1.000000        7.000000   \n",
       "\n",
       "       average_montly_hours  time_spend_company  Work_accident          left  \\\n",
       "count          14999.000000        14999.000000   14999.000000  14999.000000   \n",
       "mean             201.050337            3.498233       0.144610      0.238083   \n",
       "std               49.943099            1.460136       0.351719      0.425924   \n",
       "min               96.000000            2.000000       0.000000      0.000000   \n",
       "25%              156.000000            3.000000       0.000000      0.000000   \n",
       "50%              200.000000            3.000000       0.000000      0.000000   \n",
       "75%              245.000000            4.000000       0.000000      0.000000   \n",
       "max              310.000000           10.000000       1.000000      1.000000   \n",
       "\n",
       "       promotion_last_5years  \n",
       "count           14999.000000  \n",
       "mean                0.021268  \n",
       "std                 0.144281  \n",
       "min                 0.000000  \n",
       "25%                 0.000000  \n",
       "50%                 0.000000  \n",
       "75%                 0.000000  \n",
       "max                 1.000000  "
      ]
     },
     "execution_count": 4,
     "metadata": {},
     "output_type": "execute_result"
    }
   ],
   "source": [
    "df.describe()"
   ]
  },
  {
   "cell_type": "code",
   "execution_count": 5,
   "id": "1a3c9901",
   "metadata": {},
   "outputs": [
    {
     "data": {
      "text/plain": [
       "(14999, 10)"
      ]
     },
     "execution_count": 5,
     "metadata": {},
     "output_type": "execute_result"
    }
   ],
   "source": [
    "df.shape"
   ]
  },
  {
   "cell_type": "code",
   "execution_count": 6,
   "id": "ce92246d",
   "metadata": {},
   "outputs": [
    {
     "data": {
      "text/plain": [
       "satisfaction_level       False\n",
       "last_evaluation          False\n",
       "number_project           False\n",
       "average_montly_hours     False\n",
       "time_spend_company       False\n",
       "Work_accident            False\n",
       "left                     False\n",
       "promotion_last_5years    False\n",
       "Department               False\n",
       "salary                   False\n",
       "dtype: bool"
      ]
     },
     "execution_count": 6,
     "metadata": {},
     "output_type": "execute_result"
    }
   ],
   "source": [
    "df.isna().any()"
   ]
  },
  {
   "cell_type": "code",
   "execution_count": 7,
   "id": "ddd97cee",
   "metadata": {},
   "outputs": [],
   "source": [
    "import matplotlib.pyplot as plt\n",
    "%matplotlib inline"
   ]
  },
  {
   "cell_type": "code",
   "execution_count": 8,
   "id": "1c707c65",
   "metadata": {},
   "outputs": [
    {
     "data": {
      "text/html": [
       "<div>\n",
       "<style scoped>\n",
       "    .dataframe tbody tr th:only-of-type {\n",
       "        vertical-align: middle;\n",
       "    }\n",
       "\n",
       "    .dataframe tbody tr th {\n",
       "        vertical-align: top;\n",
       "    }\n",
       "\n",
       "    .dataframe thead th {\n",
       "        text-align: right;\n",
       "    }\n",
       "</style>\n",
       "<table border=\"1\" class=\"dataframe\">\n",
       "  <thead>\n",
       "    <tr style=\"text-align: right;\">\n",
       "      <th></th>\n",
       "      <th>satisfaction_level</th>\n",
       "      <th>last_evaluation</th>\n",
       "      <th>number_project</th>\n",
       "      <th>average_montly_hours</th>\n",
       "      <th>time_spend_company</th>\n",
       "      <th>Work_accident</th>\n",
       "      <th>left</th>\n",
       "      <th>promotion_last_5years</th>\n",
       "      <th>Department</th>\n",
       "      <th>salary</th>\n",
       "    </tr>\n",
       "  </thead>\n",
       "  <tbody>\n",
       "    <tr>\n",
       "      <th>0</th>\n",
       "      <td>0.38</td>\n",
       "      <td>0.53</td>\n",
       "      <td>2</td>\n",
       "      <td>157</td>\n",
       "      <td>3</td>\n",
       "      <td>0</td>\n",
       "      <td>1</td>\n",
       "      <td>0</td>\n",
       "      <td>sales</td>\n",
       "      <td>low</td>\n",
       "    </tr>\n",
       "    <tr>\n",
       "      <th>1</th>\n",
       "      <td>0.80</td>\n",
       "      <td>0.86</td>\n",
       "      <td>5</td>\n",
       "      <td>262</td>\n",
       "      <td>6</td>\n",
       "      <td>0</td>\n",
       "      <td>1</td>\n",
       "      <td>0</td>\n",
       "      <td>sales</td>\n",
       "      <td>medium</td>\n",
       "    </tr>\n",
       "    <tr>\n",
       "      <th>2</th>\n",
       "      <td>0.11</td>\n",
       "      <td>0.88</td>\n",
       "      <td>7</td>\n",
       "      <td>272</td>\n",
       "      <td>4</td>\n",
       "      <td>0</td>\n",
       "      <td>1</td>\n",
       "      <td>0</td>\n",
       "      <td>sales</td>\n",
       "      <td>medium</td>\n",
       "    </tr>\n",
       "    <tr>\n",
       "      <th>3</th>\n",
       "      <td>0.72</td>\n",
       "      <td>0.87</td>\n",
       "      <td>5</td>\n",
       "      <td>223</td>\n",
       "      <td>5</td>\n",
       "      <td>0</td>\n",
       "      <td>1</td>\n",
       "      <td>0</td>\n",
       "      <td>sales</td>\n",
       "      <td>low</td>\n",
       "    </tr>\n",
       "    <tr>\n",
       "      <th>4</th>\n",
       "      <td>0.37</td>\n",
       "      <td>0.52</td>\n",
       "      <td>2</td>\n",
       "      <td>159</td>\n",
       "      <td>3</td>\n",
       "      <td>0</td>\n",
       "      <td>1</td>\n",
       "      <td>0</td>\n",
       "      <td>sales</td>\n",
       "      <td>low</td>\n",
       "    </tr>\n",
       "    <tr>\n",
       "      <th>...</th>\n",
       "      <td>...</td>\n",
       "      <td>...</td>\n",
       "      <td>...</td>\n",
       "      <td>...</td>\n",
       "      <td>...</td>\n",
       "      <td>...</td>\n",
       "      <td>...</td>\n",
       "      <td>...</td>\n",
       "      <td>...</td>\n",
       "      <td>...</td>\n",
       "    </tr>\n",
       "    <tr>\n",
       "      <th>14994</th>\n",
       "      <td>0.40</td>\n",
       "      <td>0.57</td>\n",
       "      <td>2</td>\n",
       "      <td>151</td>\n",
       "      <td>3</td>\n",
       "      <td>0</td>\n",
       "      <td>1</td>\n",
       "      <td>0</td>\n",
       "      <td>support</td>\n",
       "      <td>low</td>\n",
       "    </tr>\n",
       "    <tr>\n",
       "      <th>14995</th>\n",
       "      <td>0.37</td>\n",
       "      <td>0.48</td>\n",
       "      <td>2</td>\n",
       "      <td>160</td>\n",
       "      <td>3</td>\n",
       "      <td>0</td>\n",
       "      <td>1</td>\n",
       "      <td>0</td>\n",
       "      <td>support</td>\n",
       "      <td>low</td>\n",
       "    </tr>\n",
       "    <tr>\n",
       "      <th>14996</th>\n",
       "      <td>0.37</td>\n",
       "      <td>0.53</td>\n",
       "      <td>2</td>\n",
       "      <td>143</td>\n",
       "      <td>3</td>\n",
       "      <td>0</td>\n",
       "      <td>1</td>\n",
       "      <td>0</td>\n",
       "      <td>support</td>\n",
       "      <td>low</td>\n",
       "    </tr>\n",
       "    <tr>\n",
       "      <th>14997</th>\n",
       "      <td>0.11</td>\n",
       "      <td>0.96</td>\n",
       "      <td>6</td>\n",
       "      <td>280</td>\n",
       "      <td>4</td>\n",
       "      <td>0</td>\n",
       "      <td>1</td>\n",
       "      <td>0</td>\n",
       "      <td>support</td>\n",
       "      <td>low</td>\n",
       "    </tr>\n",
       "    <tr>\n",
       "      <th>14998</th>\n",
       "      <td>0.37</td>\n",
       "      <td>0.52</td>\n",
       "      <td>2</td>\n",
       "      <td>158</td>\n",
       "      <td>3</td>\n",
       "      <td>0</td>\n",
       "      <td>1</td>\n",
       "      <td>0</td>\n",
       "      <td>support</td>\n",
       "      <td>low</td>\n",
       "    </tr>\n",
       "  </tbody>\n",
       "</table>\n",
       "<p>3571 rows × 10 columns</p>\n",
       "</div>"
      ],
      "text/plain": [
       "       satisfaction_level  last_evaluation  number_project  \\\n",
       "0                    0.38             0.53               2   \n",
       "1                    0.80             0.86               5   \n",
       "2                    0.11             0.88               7   \n",
       "3                    0.72             0.87               5   \n",
       "4                    0.37             0.52               2   \n",
       "...                   ...              ...             ...   \n",
       "14994                0.40             0.57               2   \n",
       "14995                0.37             0.48               2   \n",
       "14996                0.37             0.53               2   \n",
       "14997                0.11             0.96               6   \n",
       "14998                0.37             0.52               2   \n",
       "\n",
       "       average_montly_hours  time_spend_company  Work_accident  left  \\\n",
       "0                       157                   3              0     1   \n",
       "1                       262                   6              0     1   \n",
       "2                       272                   4              0     1   \n",
       "3                       223                   5              0     1   \n",
       "4                       159                   3              0     1   \n",
       "...                     ...                 ...            ...   ...   \n",
       "14994                   151                   3              0     1   \n",
       "14995                   160                   3              0     1   \n",
       "14996                   143                   3              0     1   \n",
       "14997                   280                   4              0     1   \n",
       "14998                   158                   3              0     1   \n",
       "\n",
       "       promotion_last_5years Department  salary  \n",
       "0                          0      sales     low  \n",
       "1                          0      sales  medium  \n",
       "2                          0      sales  medium  \n",
       "3                          0      sales     low  \n",
       "4                          0      sales     low  \n",
       "...                      ...        ...     ...  \n",
       "14994                      0    support     low  \n",
       "14995                      0    support     low  \n",
       "14996                      0    support     low  \n",
       "14997                      0    support     low  \n",
       "14998                      0    support     low  \n",
       "\n",
       "[3571 rows x 10 columns]"
      ]
     },
     "execution_count": 8,
     "metadata": {},
     "output_type": "execute_result"
    }
   ],
   "source": [
    "# employee who left\n",
    "#df.left.describe()\n",
    "#df_left = loc.df[df[:,'left' == 1]]\n",
    "df_left= df.loc[df.loc[:,'left'] == 1]\n",
    "df_left\n"
   ]
  },
  {
   "cell_type": "code",
   "execution_count": 9,
   "id": "4b362ab3",
   "metadata": {},
   "outputs": [
    {
     "data": {
      "text/plain": [
       "(array([1078., 1536.,  957.]),\n",
       " array([0.09      , 0.36666667, 0.64333333, 0.92      ]),\n",
       " <BarContainer object of 3 artists>)"
      ]
     },
     "execution_count": 9,
     "metadata": {},
     "output_type": "execute_result"
    },
    {
     "data": {
      "image/png": "[encoded data removed]",
      "text/plain": [
       "<Figure size 432x288 with 1 Axes>"
      ]
     },
     "metadata": {
      "needs_background": "light"
     },
     "output_type": "display_data"
    }
   ],
   "source": [
    "plt.hist(x = df_left[\"satisfaction_level\"] ,bins = 3)"
   ]
  },
  {
   "cell_type": "code",
   "execution_count": 10,
   "id": "5fd2e6ba",
   "metadata": {},
   "outputs": [
    {
     "data": {
      "text/plain": [
       "(array([1636.,  640., 1295.]),\n",
       " array([126.        , 187.33333333, 248.66666667, 310.        ]),\n",
       " <BarContainer object of 3 artists>)"
      ]
     },
     "execution_count": 10,
     "metadata": {},
     "output_type": "execute_result"
    },
    {
     "data": {
      "image/png": "[encoded data removed]",
      "text/plain": [
       "<Figure size 432x288 with 1 Axes>"
      ]
     },
     "metadata": {
      "needs_background": "light"
     },
     "output_type": "display_data"
    }
   ],
   "source": [
    "plt.hist(x = df_left[\"average_montly_hours\"] ,bins = 3)"
   ]
  },
  {
   "cell_type": "code",
   "execution_count": 11,
   "id": "c13629af",
   "metadata": {
    "scrolled": true
   },
   "outputs": [
    {
     "data": {
      "text/plain": [
       "Text(0, 0.5, 'Satisfaction')"
      ]
     },
     "execution_count": 11,
     "metadata": {},
     "output_type": "execute_result"
    },
    {
     "data": {
      "image/png": "[encoded data removed]",
      "text/plain": [
       "<Figure size 432x288 with 1 Axes>"
      ]
     },
     "metadata": {
      "needs_background": "light"
     },
     "output_type": "display_data"
    }
   ],
   "source": [
    "plt.scatter(df_left[\"average_montly_hours\"],df_left[\"satisfaction_level\"],c='r' ,alpha =0.3)\n",
    "plt.xlabel('Working Hours (Monthly)')\n",
    "plt.ylabel('Satisfaction')"
   ]
  },
  {
   "cell_type": "markdown",
   "id": "3f67811f",
   "metadata": {},
   "source": [
    "- More than 1000 employee have their satisfaction level < 0.4\n",
    "\n",
    "- Almost 1500 employee have their satisfaction level 0.4 - 0.8\n",
    "\n",
    "- Between 900-1000 employee have their satisfaction level > 0.8\n",
    "\n",
    "- Therefore,maximum emolyee are either less satisfies of just satisfied with the job.\n",
    "\n",
    "-------------------------------------------------------------------------------------------\n",
    "\n",
    "- The satisfaction level is maximum for those employee whose working hours are in between 210 -275.\n",
    "\n",
    "- Employee with monthly working hours beween 250 - 325 are least satisfiied.\n",
    "\n",
    "- Employedd with working hours between 125 - 175  are just satisfied."
   ]
  },
  {
   "cell_type": "code",
   "execution_count": 12,
   "id": "822a2a49",
   "metadata": {},
   "outputs": [
    {
     "data": {
      "text/html": [
       "<div>\n",
       "<style scoped>\n",
       "    .dataframe tbody tr th:only-of-type {\n",
       "        vertical-align: middle;\n",
       "    }\n",
       "\n",
       "    .dataframe tbody tr th {\n",
       "        vertical-align: top;\n",
       "    }\n",
       "\n",
       "    .dataframe thead th {\n",
       "        text-align: right;\n",
       "    }\n",
       "</style>\n",
       "<table border=\"1\" class=\"dataframe\">\n",
       "  <thead>\n",
       "    <tr style=\"text-align: right;\">\n",
       "      <th></th>\n",
       "      <th>satisfaction_level</th>\n",
       "      <th>last_evaluation</th>\n",
       "      <th>number_project</th>\n",
       "      <th>average_montly_hours</th>\n",
       "      <th>time_spend_company</th>\n",
       "      <th>Work_accident</th>\n",
       "      <th>left</th>\n",
       "      <th>promotion_last_5years</th>\n",
       "    </tr>\n",
       "  </thead>\n",
       "  <tbody>\n",
       "    <tr>\n",
       "      <th>satisfaction_level</th>\n",
       "      <td>1.000000</td>\n",
       "      <td>0.182295</td>\n",
       "      <td>-0.227113</td>\n",
       "      <td>-0.084117</td>\n",
       "      <td>0.446440</td>\n",
       "      <td>0.005864</td>\n",
       "      <td>NaN</td>\n",
       "      <td>0.005516</td>\n",
       "    </tr>\n",
       "    <tr>\n",
       "      <th>last_evaluation</th>\n",
       "      <td>0.182295</td>\n",
       "      <td>1.000000</td>\n",
       "      <td>0.804155</td>\n",
       "      <td>0.830336</td>\n",
       "      <td>0.783873</td>\n",
       "      <td>-0.001875</td>\n",
       "      <td>NaN</td>\n",
       "      <td>-0.047992</td>\n",
       "    </tr>\n",
       "    <tr>\n",
       "      <th>number_project</th>\n",
       "      <td>-0.227113</td>\n",
       "      <td>0.804155</td>\n",
       "      <td>1.000000</td>\n",
       "      <td>0.875194</td>\n",
       "      <td>0.601989</td>\n",
       "      <td>-0.008401</td>\n",
       "      <td>NaN</td>\n",
       "      <td>-0.032301</td>\n",
       "    </tr>\n",
       "    <tr>\n",
       "      <th>average_montly_hours</th>\n",
       "      <td>-0.084117</td>\n",
       "      <td>0.830336</td>\n",
       "      <td>0.875194</td>\n",
       "      <td>1.000000</td>\n",
       "      <td>0.664011</td>\n",
       "      <td>-0.009048</td>\n",
       "      <td>NaN</td>\n",
       "      <td>-0.035475</td>\n",
       "    </tr>\n",
       "    <tr>\n",
       "      <th>time_spend_company</th>\n",
       "      <td>0.446440</td>\n",
       "      <td>0.783873</td>\n",
       "      <td>0.601989</td>\n",
       "      <td>0.664011</td>\n",
       "      <td>1.000000</td>\n",
       "      <td>0.005222</td>\n",
       "      <td>NaN</td>\n",
       "      <td>-0.045888</td>\n",
       "    </tr>\n",
       "    <tr>\n",
       "      <th>Work_accident</th>\n",
       "      <td>0.005864</td>\n",
       "      <td>-0.001875</td>\n",
       "      <td>-0.008401</td>\n",
       "      <td>-0.009048</td>\n",
       "      <td>0.005222</td>\n",
       "      <td>1.000000</td>\n",
       "      <td>NaN</td>\n",
       "      <td>0.056214</td>\n",
       "    </tr>\n",
       "    <tr>\n",
       "      <th>left</th>\n",
       "      <td>NaN</td>\n",
       "      <td>NaN</td>\n",
       "      <td>NaN</td>\n",
       "      <td>NaN</td>\n",
       "      <td>NaN</td>\n",
       "      <td>NaN</td>\n",
       "      <td>NaN</td>\n",
       "      <td>NaN</td>\n",
       "    </tr>\n",
       "    <tr>\n",
       "      <th>promotion_last_5years</th>\n",
       "      <td>0.005516</td>\n",
       "      <td>-0.047992</td>\n",
       "      <td>-0.032301</td>\n",
       "      <td>-0.035475</td>\n",
       "      <td>-0.045888</td>\n",
       "      <td>0.056214</td>\n",
       "      <td>NaN</td>\n",
       "      <td>1.000000</td>\n",
       "    </tr>\n",
       "  </tbody>\n",
       "</table>\n",
       "</div>"
      ],
      "text/plain": [
       "                       satisfaction_level  last_evaluation  number_project  \\\n",
       "satisfaction_level               1.000000         0.182295       -0.227113   \n",
       "last_evaluation                  0.182295         1.000000        0.804155   \n",
       "number_project                  -0.227113         0.804155        1.000000   \n",
       "average_montly_hours            -0.084117         0.830336        0.875194   \n",
       "time_spend_company               0.446440         0.783873        0.601989   \n",
       "Work_accident                    0.005864        -0.001875       -0.008401   \n",
       "left                                  NaN              NaN             NaN   \n",
       "promotion_last_5years            0.005516        -0.047992       -0.032301   \n",
       "\n",
       "                       average_montly_hours  time_spend_company  \\\n",
       "satisfaction_level                -0.084117            0.446440   \n",
       "last_evaluation                    0.830336            0.783873   \n",
       "number_project                     0.875194            0.601989   \n",
       "average_montly_hours               1.000000            0.664011   \n",
       "time_spend_company                 0.664011            1.000000   \n",
       "Work_accident                     -0.009048            0.005222   \n",
       "left                                    NaN                 NaN   \n",
       "promotion_last_5years             -0.035475           -0.045888   \n",
       "\n",
       "                       Work_accident  left  promotion_last_5years  \n",
       "satisfaction_level          0.005864   NaN               0.005516  \n",
       "last_evaluation            -0.001875   NaN              -0.047992  \n",
       "number_project             -0.008401   NaN              -0.032301  \n",
       "average_montly_hours       -0.009048   NaN              -0.035475  \n",
       "time_spend_company          0.005222   NaN              -0.045888  \n",
       "Work_accident               1.000000   NaN               0.056214  \n",
       "left                             NaN   NaN                    NaN  \n",
       "promotion_last_5years       0.056214   NaN               1.000000  "
      ]
     },
     "execution_count": 12,
     "metadata": {},
     "output_type": "execute_result"
    }
   ],
   "source": [
    "df_left.corr()"
   ]
  },
  {
   "cell_type": "code",
   "execution_count": 13,
   "id": "bf3093dc",
   "metadata": {},
   "outputs": [
    {
     "data": {
      "text/plain": [
       "<bound method GroupBy.head of <pandas.core.groupby.generic.DataFrameGroupBy object at 0x000001ED5BEBF6A0>>"
      ]
     },
     "execution_count": 13,
     "metadata": {},
     "output_type": "execute_result"
    }
   ],
   "source": [
    "d1=df_left[['promotion_last_5years','satisfaction_level']].groupby(df_left['satisfaction_level'])\n",
    "d1.head"
   ]
  },
  {
   "cell_type": "code",
   "execution_count": 21,
   "id": "9405b74b",
   "metadata": {},
   "outputs": [
    {
     "data": {
      "text/plain": [
       "count     14999\n",
       "unique       10\n",
       "top       sales\n",
       "freq       4140\n",
       "Name: Department, dtype: object"
      ]
     },
     "execution_count": 21,
     "metadata": {},
     "output_type": "execute_result"
    }
   ],
   "source": [
    "df['Department'].describe()"
   ]
  },
  {
   "cell_type": "code",
   "execution_count": 22,
   "id": "fd9b7ae3",
   "metadata": {},
   "outputs": [
    {
     "data": {
      "text/plain": [
       "count     14999\n",
       "unique        3\n",
       "top         low\n",
       "freq       7316\n",
       "Name: salary, dtype: object"
      ]
     },
     "execution_count": 22,
     "metadata": {},
     "output_type": "execute_result"
    }
   ],
   "source": [
    "df['salary'].describe()"
   ]
  },
  {
   "cell_type": "code",
   "execution_count": 23,
   "id": "42db0364",
   "metadata": {},
   "outputs": [],
   "source": [
    "df = pd.get_dummies(df, columns = ['Department' ,'salary'])\n",
    "#df=pd.get_dummies(df,columns = ['salary'] , inplace = True)"
   ]
  },
  {
   "cell_type": "code",
   "execution_count": 24,
   "id": "5fafa600",
   "metadata": {},
   "outputs": [
    {
     "data": {
      "text/html": [
       "<div>\n",
       "<style scoped>\n",
       "    .dataframe tbody tr th:only-of-type {\n",
       "        vertical-align: middle;\n",
       "    }\n",
       "\n",
       "    .dataframe tbody tr th {\n",
       "        vertical-align: top;\n",
       "    }\n",
       "\n",
       "    .dataframe thead th {\n",
       "        text-align: right;\n",
       "    }\n",
       "</style>\n",
       "<table border=\"1\" class=\"dataframe\">\n",
       "  <thead>\n",
       "    <tr style=\"text-align: right;\">\n",
       "      <th></th>\n",
       "      <th>satisfaction_level</th>\n",
       "      <th>last_evaluation</th>\n",
       "      <th>number_project</th>\n",
       "      <th>average_montly_hours</th>\n",
       "      <th>time_spend_company</th>\n",
       "      <th>Work_accident</th>\n",
       "      <th>left</th>\n",
       "      <th>promotion_last_5years</th>\n",
       "      <th>Department_IT</th>\n",
       "      <th>Department_RandD</th>\n",
       "      <th>...</th>\n",
       "      <th>Department_hr</th>\n",
       "      <th>Department_management</th>\n",
       "      <th>Department_marketing</th>\n",
       "      <th>Department_product_mng</th>\n",
       "      <th>Department_sales</th>\n",
       "      <th>Department_support</th>\n",
       "      <th>Department_technical</th>\n",
       "      <th>salary_high</th>\n",
       "      <th>salary_low</th>\n",
       "      <th>salary_medium</th>\n",
       "    </tr>\n",
       "  </thead>\n",
       "  <tbody>\n",
       "    <tr>\n",
       "      <th>0</th>\n",
       "      <td>0.38</td>\n",
       "      <td>0.53</td>\n",
       "      <td>2</td>\n",
       "      <td>157</td>\n",
       "      <td>3</td>\n",
       "      <td>0</td>\n",
       "      <td>1</td>\n",
       "      <td>0</td>\n",
       "      <td>0</td>\n",
       "      <td>0</td>\n",
       "      <td>...</td>\n",
       "      <td>0</td>\n",
       "      <td>0</td>\n",
       "      <td>0</td>\n",
       "      <td>0</td>\n",
       "      <td>1</td>\n",
       "      <td>0</td>\n",
       "      <td>0</td>\n",
       "      <td>0</td>\n",
       "      <td>1</td>\n",
       "      <td>0</td>\n",
       "    </tr>\n",
       "    <tr>\n",
       "      <th>1</th>\n",
       "      <td>0.80</td>\n",
       "      <td>0.86</td>\n",
       "      <td>5</td>\n",
       "      <td>262</td>\n",
       "      <td>6</td>\n",
       "      <td>0</td>\n",
       "      <td>1</td>\n",
       "      <td>0</td>\n",
       "      <td>0</td>\n",
       "      <td>0</td>\n",
       "      <td>...</td>\n",
       "      <td>0</td>\n",
       "      <td>0</td>\n",
       "      <td>0</td>\n",
       "      <td>0</td>\n",
       "      <td>1</td>\n",
       "      <td>0</td>\n",
       "      <td>0</td>\n",
       "      <td>0</td>\n",
       "      <td>0</td>\n",
       "      <td>1</td>\n",
       "    </tr>\n",
       "    <tr>\n",
       "      <th>2</th>\n",
       "      <td>0.11</td>\n",
       "      <td>0.88</td>\n",
       "      <td>7</td>\n",
       "      <td>272</td>\n",
       "      <td>4</td>\n",
       "      <td>0</td>\n",
       "      <td>1</td>\n",
       "      <td>0</td>\n",
       "      <td>0</td>\n",
       "      <td>0</td>\n",
       "      <td>...</td>\n",
       "      <td>0</td>\n",
       "      <td>0</td>\n",
       "      <td>0</td>\n",
       "      <td>0</td>\n",
       "      <td>1</td>\n",
       "      <td>0</td>\n",
       "      <td>0</td>\n",
       "      <td>0</td>\n",
       "      <td>0</td>\n",
       "      <td>1</td>\n",
       "    </tr>\n",
       "    <tr>\n",
       "      <th>3</th>\n",
       "      <td>0.72</td>\n",
       "      <td>0.87</td>\n",
       "      <td>5</td>\n",
       "      <td>223</td>\n",
       "      <td>5</td>\n",
       "      <td>0</td>\n",
       "      <td>1</td>\n",
       "      <td>0</td>\n",
       "      <td>0</td>\n",
       "      <td>0</td>\n",
       "      <td>...</td>\n",
       "      <td>0</td>\n",
       "      <td>0</td>\n",
       "      <td>0</td>\n",
       "      <td>0</td>\n",
       "      <td>1</td>\n",
       "      <td>0</td>\n",
       "      <td>0</td>\n",
       "      <td>0</td>\n",
       "      <td>1</td>\n",
       "      <td>0</td>\n",
       "    </tr>\n",
       "    <tr>\n",
       "      <th>4</th>\n",
       "      <td>0.37</td>\n",
       "      <td>0.52</td>\n",
       "      <td>2</td>\n",
       "      <td>159</td>\n",
       "      <td>3</td>\n",
       "      <td>0</td>\n",
       "      <td>1</td>\n",
       "      <td>0</td>\n",
       "      <td>0</td>\n",
       "      <td>0</td>\n",
       "      <td>...</td>\n",
       "      <td>0</td>\n",
       "      <td>0</td>\n",
       "      <td>0</td>\n",
       "      <td>0</td>\n",
       "      <td>1</td>\n",
       "      <td>0</td>\n",
       "      <td>0</td>\n",
       "      <td>0</td>\n",
       "      <td>1</td>\n",
       "      <td>0</td>\n",
       "    </tr>\n",
       "    <tr>\n",
       "      <th>...</th>\n",
       "      <td>...</td>\n",
       "      <td>...</td>\n",
       "      <td>...</td>\n",
       "      <td>...</td>\n",
       "      <td>...</td>\n",
       "      <td>...</td>\n",
       "      <td>...</td>\n",
       "      <td>...</td>\n",
       "      <td>...</td>\n",
       "      <td>...</td>\n",
       "      <td>...</td>\n",
       "      <td>...</td>\n",
       "      <td>...</td>\n",
       "      <td>...</td>\n",
       "      <td>...</td>\n",
       "      <td>...</td>\n",
       "      <td>...</td>\n",
       "      <td>...</td>\n",
       "      <td>...</td>\n",
       "      <td>...</td>\n",
       "      <td>...</td>\n",
       "    </tr>\n",
       "    <tr>\n",
       "      <th>14994</th>\n",
       "      <td>0.40</td>\n",
       "      <td>0.57</td>\n",
       "      <td>2</td>\n",
       "      <td>151</td>\n",
       "      <td>3</td>\n",
       "      <td>0</td>\n",
       "      <td>1</td>\n",
       "      <td>0</td>\n",
       "      <td>0</td>\n",
       "      <td>0</td>\n",
       "      <td>...</td>\n",
       "      <td>0</td>\n",
       "      <td>0</td>\n",
       "      <td>0</td>\n",
       "      <td>0</td>\n",
       "      <td>0</td>\n",
       "      <td>1</td>\n",
       "      <td>0</td>\n",
       "      <td>0</td>\n",
       "      <td>1</td>\n",
       "      <td>0</td>\n",
       "    </tr>\n",
       "    <tr>\n",
       "      <th>14995</th>\n",
       "      <td>0.37</td>\n",
       "      <td>0.48</td>\n",
       "      <td>2</td>\n",
       "      <td>160</td>\n",
       "      <td>3</td>\n",
       "      <td>0</td>\n",
       "      <td>1</td>\n",
       "      <td>0</td>\n",
       "      <td>0</td>\n",
       "      <td>0</td>\n",
       "      <td>...</td>\n",
       "      <td>0</td>\n",
       "      <td>0</td>\n",
       "      <td>0</td>\n",
       "      <td>0</td>\n",
       "      <td>0</td>\n",
       "      <td>1</td>\n",
       "      <td>0</td>\n",
       "      <td>0</td>\n",
       "      <td>1</td>\n",
       "      <td>0</td>\n",
       "    </tr>\n",
       "    <tr>\n",
       "      <th>14996</th>\n",
       "      <td>0.37</td>\n",
       "      <td>0.53</td>\n",
       "      <td>2</td>\n",
       "      <td>143</td>\n",
       "      <td>3</td>\n",
       "      <td>0</td>\n",
       "      <td>1</td>\n",
       "      <td>0</td>\n",
       "      <td>0</td>\n",
       "      <td>0</td>\n",
       "      <td>...</td>\n",
       "      <td>0</td>\n",
       "      <td>0</td>\n",
       "      <td>0</td>\n",
       "      <td>0</td>\n",
       "      <td>0</td>\n",
       "      <td>1</td>\n",
       "      <td>0</td>\n",
       "      <td>0</td>\n",
       "      <td>1</td>\n",
       "      <td>0</td>\n",
       "    </tr>\n",
       "    <tr>\n",
       "      <th>14997</th>\n",
       "      <td>0.11</td>\n",
       "      <td>0.96</td>\n",
       "      <td>6</td>\n",
       "      <td>280</td>\n",
       "      <td>4</td>\n",
       "      <td>0</td>\n",
       "      <td>1</td>\n",
       "      <td>0</td>\n",
       "      <td>0</td>\n",
       "      <td>0</td>\n",
       "      <td>...</td>\n",
       "      <td>0</td>\n",
       "      <td>0</td>\n",
       "      <td>0</td>\n",
       "      <td>0</td>\n",
       "      <td>0</td>\n",
       "      <td>1</td>\n",
       "      <td>0</td>\n",
       "      <td>0</td>\n",
       "      <td>1</td>\n",
       "      <td>0</td>\n",
       "    </tr>\n",
       "    <tr>\n",
       "      <th>14998</th>\n",
       "      <td>0.37</td>\n",
       "      <td>0.52</td>\n",
       "      <td>2</td>\n",
       "      <td>158</td>\n",
       "      <td>3</td>\n",
       "      <td>0</td>\n",
       "      <td>1</td>\n",
       "      <td>0</td>\n",
       "      <td>0</td>\n",
       "      <td>0</td>\n",
       "      <td>...</td>\n",
       "      <td>0</td>\n",
       "      <td>0</td>\n",
       "      <td>0</td>\n",
       "      <td>0</td>\n",
       "      <td>0</td>\n",
       "      <td>1</td>\n",
       "      <td>0</td>\n",
       "      <td>0</td>\n",
       "      <td>1</td>\n",
       "      <td>0</td>\n",
       "    </tr>\n",
       "  </tbody>\n",
       "</table>\n",
       "<p>14999 rows × 21 columns</p>\n",
       "</div>"
      ],
      "text/plain": [
       "       satisfaction_level  last_evaluation  number_project  \\\n",
       "0                    0.38             0.53               2   \n",
       "1                    0.80             0.86               5   \n",
       "2                    0.11             0.88               7   \n",
       "3                    0.72             0.87               5   \n",
       "4                    0.37             0.52               2   \n",
       "...                   ...              ...             ...   \n",
       "14994                0.40             0.57               2   \n",
       "14995                0.37             0.48               2   \n",
       "14996                0.37             0.53               2   \n",
       "14997                0.11             0.96               6   \n",
       "14998                0.37             0.52               2   \n",
       "\n",
       "       average_montly_hours  time_spend_company  Work_accident  left  \\\n",
       "0                       157                   3              0     1   \n",
       "1                       262                   6              0     1   \n",
       "2                       272                   4              0     1   \n",
       "3                       223                   5              0     1   \n",
       "4                       159                   3              0     1   \n",
       "...                     ...                 ...            ...   ...   \n",
       "14994                   151                   3              0     1   \n",
       "14995                   160                   3              0     1   \n",
       "14996                   143                   3              0     1   \n",
       "14997                   280                   4              0     1   \n",
       "14998                   158                   3              0     1   \n",
       "\n",
       "       promotion_last_5years  Department_IT  Department_RandD  ...  \\\n",
       "0                          0              0                 0  ...   \n",
       "1                          0              0                 0  ...   \n",
       "2                          0              0                 0  ...   \n",
       "3                          0              0                 0  ...   \n",
       "4                          0              0                 0  ...   \n",
       "...                      ...            ...               ...  ...   \n",
       "14994                      0              0                 0  ...   \n",
       "14995                      0              0                 0  ...   \n",
       "14996                      0              0                 0  ...   \n",
       "14997                      0              0                 0  ...   \n",
       "14998                      0              0                 0  ...   \n",
       "\n",
       "       Department_hr  Department_management  Department_marketing  \\\n",
       "0                  0                      0                     0   \n",
       "1                  0                      0                     0   \n",
       "2                  0                      0                     0   \n",
       "3                  0                      0                     0   \n",
       "4                  0                      0                     0   \n",
       "...              ...                    ...                   ...   \n",
       "14994              0                      0                     0   \n",
       "14995              0                      0                     0   \n",
       "14996              0                      0                     0   \n",
       "14997              0                      0                     0   \n",
       "14998              0                      0                     0   \n",
       "\n",
       "       Department_product_mng  Department_sales  Department_support  \\\n",
       "0                           0                 1                   0   \n",
       "1                           0                 1                   0   \n",
       "2                           0                 1                   0   \n",
       "3                           0                 1                   0   \n",
       "4                           0                 1                   0   \n",
       "...                       ...               ...                 ...   \n",
       "14994                       0                 0                   1   \n",
       "14995                       0                 0                   1   \n",
       "14996                       0                 0                   1   \n",
       "14997                       0                 0                   1   \n",
       "14998                       0                 0                   1   \n",
       "\n",
       "       Department_technical  salary_high  salary_low  salary_medium  \n",
       "0                         0            0           1              0  \n",
       "1                         0            0           0              1  \n",
       "2                         0            0           0              1  \n",
       "3                         0            0           1              0  \n",
       "4                         0            0           1              0  \n",
       "...                     ...          ...         ...            ...  \n",
       "14994                     0            0           1              0  \n",
       "14995                     0            0           1              0  \n",
       "14996                     0            0           1              0  \n",
       "14997                     0            0           1              0  \n",
       "14998                     0            0           1              0  \n",
       "\n",
       "[14999 rows x 21 columns]"
      ]
     },
     "execution_count": 24,
     "metadata": {},
     "output_type": "execute_result"
    }
   ],
   "source": [
    "df"
   ]
  },
  {
   "cell_type": "code",
   "execution_count": 25,
   "id": "d0a533ac",
   "metadata": {},
   "outputs": [
    {
     "data": {
      "image/png": "[encoded data removed]",
      "text/plain": [
       "<Figure size 432x288 with 1 Axes>"
      ]
     },
     "metadata": {
      "needs_background": "light"
     },
     "output_type": "display_data"
    },
    {
     "data": {
      "image/png": "[encoded data removed]",
      "text/plain": [
       "<Figure size 432x288 with 1 Axes>"
      ]
     },
     "metadata": {
      "needs_background": "light"
     },
     "output_type": "display_data"
    },
    {
     "data": {
      "image/png": "[encoded data removed]",
      "text/plain": [
       "<Figure size 432x288 with 1 Axes>"
      ]
     },
     "metadata": {
      "needs_background": "light"
     },
     "output_type": "display_data"
    },
    {
     "data": {
      "image/png": "[encoded data removed]",
      "text/plain": [
       "<Figure size 432x288 with 1 Axes>"
      ]
     },
     "metadata": {
      "needs_background": "light"
     },
     "output_type": "display_data"
    },
    {
     "data": {
      "image/png": "[encoded data removed]",
      "text/plain": [
       "<Figure size 432x288 with 1 Axes>"
      ]
     },
     "metadata": {
      "needs_background": "light"
     },
     "output_type": "display_data"
    },
    {
     "data": {
      "image/png": "[encoded data removed]",
      "text/plain": [
       "<Figure size 432x288 with 1 Axes>"
      ]
     },
     "metadata": {
      "needs_background": "light"
     },
     "output_type": "display_data"
    },
    {
     "data": {
      "image/png": "[encoded data removed]",
      "text/plain": [
       "<Figure size 432x288 with 1 Axes>"
      ]
     },
     "metadata": {
      "needs_background": "light"
     },
     "output_type": "display_data"
    },
    {
     "data": {
      "image/png": "[encoded data removed]",
      "text/plain": [
       "<Figure size 432x288 with 1 Axes>"
      ]
     },
     "metadata": {
      "needs_background": "light"
     },
     "output_type": "display_data"
    },
    {
     "data": {
      "image/png": "[encoded data removed]",
      "text/plain": [
       "<Figure size 432x288 with 1 Axes>"
      ]
     },
     "metadata": {
      "needs_background": "light"
     },
     "output_type": "display_data"
    },
    {
     "data": {
      "image/png": "[encoded data removed]",
      "text/plain": [
       "<Figure size 432x288 with 1 Axes>"
      ]
     },
     "metadata": {
      "needs_background": "light"
     },
     "output_type": "display_data"
    },
    {
     "data": {
      "image/png": "[encoded data removed]",
      "text/plain": [
       "<Figure size 432x288 with 1 Axes>"
      ]
     },
     "metadata": {
      "needs_background": "light"
     },
     "output_type": "display_data"
    },
    {
     "data": {
      "image/png": "[encoded data removed]",
      "text/plain": [
       "<Figure size 432x288 with 1 Axes>"
      ]
     },
     "metadata": {
      "needs_background": "light"
     },
     "output_type": "display_data"
    },
    {
     "data": {
      "image/png": "[encoded data removed]",
      "text/plain": [
       "<Figure size 432x288 with 1 Axes>"
      ]
     },
     "metadata": {
      "needs_background": "light"
     },
     "output_type": "display_data"
    },
    {
     "data": {
      "image/png": "[encoded data removed]",
      "text/plain": [
       "<Figure size 432x288 with 1 Axes>"
      ]
     },
     "metadata": {
      "needs_background": "light"
     },
     "output_type": "display_data"
    },
    {
     "data": {
      "image/png": "[encoded data removed]",
      "text/plain": [
       "<Figure size 432x288 with 1 Axes>"
      ]
     },
     "metadata": {
      "needs_background": "light"
     },
     "output_type": "display_data"
    },
    {
     "data": {
      "image/png": "[encoded data removed]",
      "text/plain": [
       "<Figure size 432x288 with 1 Axes>"
      ]
     },
     "metadata": {
      "needs_background": "light"
     },
     "output_type": "display_data"
    },
    {
     "data": {
      "image/png": "[encoded data removed]",
      "text/plain": [
       "<Figure size 432x288 with 1 Axes>"
      ]
     },
     "metadata": {
      "needs_background": "light"
     },
     "output_type": "display_data"
    },
    {
     "data": {
      "image/png": "[encoded data removed]",
      "text/plain": [
       "<Figure size 432x288 with 1 Axes>"
      ]
     },
     "metadata": {
      "needs_background": "light"
     },
     "output_type": "display_data"
    },
    {
     "data": {
      "image/png": "[encoded data removed]",
      "text/plain": [
       "<Figure size 432x288 with 1 Axes>"
      ]
     },
     "metadata": {
      "needs_background": "light"
     },
     "output_type": "display_data"
    },
    {
     "data": {
      "image/png": "[encoded data removed]",
      "text/plain": [
       "<Figure size 432x288 with 1 Axes>"
      ]
     },
     "metadata": {
      "needs_background": "light"
     },
     "output_type": "display_data"
    },
    {
     "data": {
      "image/png": "[encoded data removed]",
      "text/plain": [
       "<Figure size 432x288 with 1 Axes>"
      ]
     },
     "metadata": {
      "needs_background": "light"
     },
     "output_type": "display_data"
    }
   ],
   "source": [
    "for i in df:\n",
    "    plt.figure()\n",
    "    df.boxplot([i])"
   ]
  },
  {
   "cell_type": "markdown",
   "id": "c7f7e218",
   "metadata": {},
   "source": [
    "# Data filtering for Outliers"
   ]
  },
  {
   "cell_type": "code",
   "execution_count": 26,
   "id": "03ab425b",
   "metadata": {},
   "outputs": [],
   "source": [
    "df_filter = df.loc[(df['time_spend_company']<5) & (df['number_project'] <5)]"
   ]
  },
  {
   "cell_type": "code",
   "execution_count": 27,
   "id": "c6058f9e",
   "metadata": {},
   "outputs": [
    {
     "data": {
      "text/html": [
       "<div>\n",
       "<style scoped>\n",
       "    .dataframe tbody tr th:only-of-type {\n",
       "        vertical-align: middle;\n",
       "    }\n",
       "\n",
       "    .dataframe tbody tr th {\n",
       "        vertical-align: top;\n",
       "    }\n",
       "\n",
       "    .dataframe thead th {\n",
       "        text-align: right;\n",
       "    }\n",
       "</style>\n",
       "<table border=\"1\" class=\"dataframe\">\n",
       "  <thead>\n",
       "    <tr style=\"text-align: right;\">\n",
       "      <th></th>\n",
       "      <th>satisfaction_level</th>\n",
       "      <th>last_evaluation</th>\n",
       "      <th>number_project</th>\n",
       "      <th>average_montly_hours</th>\n",
       "      <th>time_spend_company</th>\n",
       "      <th>Work_accident</th>\n",
       "      <th>left</th>\n",
       "      <th>promotion_last_5years</th>\n",
       "      <th>Department_IT</th>\n",
       "      <th>Department_RandD</th>\n",
       "      <th>...</th>\n",
       "      <th>Department_hr</th>\n",
       "      <th>Department_management</th>\n",
       "      <th>Department_marketing</th>\n",
       "      <th>Department_product_mng</th>\n",
       "      <th>Department_sales</th>\n",
       "      <th>Department_support</th>\n",
       "      <th>Department_technical</th>\n",
       "      <th>salary_high</th>\n",
       "      <th>salary_low</th>\n",
       "      <th>salary_medium</th>\n",
       "    </tr>\n",
       "  </thead>\n",
       "  <tbody>\n",
       "    <tr>\n",
       "      <th>0</th>\n",
       "      <td>0.38</td>\n",
       "      <td>0.53</td>\n",
       "      <td>2</td>\n",
       "      <td>157</td>\n",
       "      <td>3</td>\n",
       "      <td>0</td>\n",
       "      <td>1</td>\n",
       "      <td>0</td>\n",
       "      <td>0</td>\n",
       "      <td>0</td>\n",
       "      <td>...</td>\n",
       "      <td>0</td>\n",
       "      <td>0</td>\n",
       "      <td>0</td>\n",
       "      <td>0</td>\n",
       "      <td>1</td>\n",
       "      <td>0</td>\n",
       "      <td>0</td>\n",
       "      <td>0</td>\n",
       "      <td>1</td>\n",
       "      <td>0</td>\n",
       "    </tr>\n",
       "    <tr>\n",
       "      <th>4</th>\n",
       "      <td>0.37</td>\n",
       "      <td>0.52</td>\n",
       "      <td>2</td>\n",
       "      <td>159</td>\n",
       "      <td>3</td>\n",
       "      <td>0</td>\n",
       "      <td>1</td>\n",
       "      <td>0</td>\n",
       "      <td>0</td>\n",
       "      <td>0</td>\n",
       "      <td>...</td>\n",
       "      <td>0</td>\n",
       "      <td>0</td>\n",
       "      <td>0</td>\n",
       "      <td>0</td>\n",
       "      <td>1</td>\n",
       "      <td>0</td>\n",
       "      <td>0</td>\n",
       "      <td>0</td>\n",
       "      <td>1</td>\n",
       "      <td>0</td>\n",
       "    </tr>\n",
       "    <tr>\n",
       "      <th>5</th>\n",
       "      <td>0.41</td>\n",
       "      <td>0.50</td>\n",
       "      <td>2</td>\n",
       "      <td>153</td>\n",
       "      <td>3</td>\n",
       "      <td>0</td>\n",
       "      <td>1</td>\n",
       "      <td>0</td>\n",
       "      <td>0</td>\n",
       "      <td>0</td>\n",
       "      <td>...</td>\n",
       "      <td>0</td>\n",
       "      <td>0</td>\n",
       "      <td>0</td>\n",
       "      <td>0</td>\n",
       "      <td>1</td>\n",
       "      <td>0</td>\n",
       "      <td>0</td>\n",
       "      <td>0</td>\n",
       "      <td>1</td>\n",
       "      <td>0</td>\n",
       "    </tr>\n",
       "    <tr>\n",
       "      <th>9</th>\n",
       "      <td>0.42</td>\n",
       "      <td>0.53</td>\n",
       "      <td>2</td>\n",
       "      <td>142</td>\n",
       "      <td>3</td>\n",
       "      <td>0</td>\n",
       "      <td>1</td>\n",
       "      <td>0</td>\n",
       "      <td>0</td>\n",
       "      <td>0</td>\n",
       "      <td>...</td>\n",
       "      <td>0</td>\n",
       "      <td>0</td>\n",
       "      <td>0</td>\n",
       "      <td>0</td>\n",
       "      <td>1</td>\n",
       "      <td>0</td>\n",
       "      <td>0</td>\n",
       "      <td>0</td>\n",
       "      <td>1</td>\n",
       "      <td>0</td>\n",
       "    </tr>\n",
       "    <tr>\n",
       "      <th>10</th>\n",
       "      <td>0.45</td>\n",
       "      <td>0.54</td>\n",
       "      <td>2</td>\n",
       "      <td>135</td>\n",
       "      <td>3</td>\n",
       "      <td>0</td>\n",
       "      <td>1</td>\n",
       "      <td>0</td>\n",
       "      <td>0</td>\n",
       "      <td>0</td>\n",
       "      <td>...</td>\n",
       "      <td>0</td>\n",
       "      <td>0</td>\n",
       "      <td>0</td>\n",
       "      <td>0</td>\n",
       "      <td>1</td>\n",
       "      <td>0</td>\n",
       "      <td>0</td>\n",
       "      <td>0</td>\n",
       "      <td>1</td>\n",
       "      <td>0</td>\n",
       "    </tr>\n",
       "    <tr>\n",
       "      <th>...</th>\n",
       "      <td>...</td>\n",
       "      <td>...</td>\n",
       "      <td>...</td>\n",
       "      <td>...</td>\n",
       "      <td>...</td>\n",
       "      <td>...</td>\n",
       "      <td>...</td>\n",
       "      <td>...</td>\n",
       "      <td>...</td>\n",
       "      <td>...</td>\n",
       "      <td>...</td>\n",
       "      <td>...</td>\n",
       "      <td>...</td>\n",
       "      <td>...</td>\n",
       "      <td>...</td>\n",
       "      <td>...</td>\n",
       "      <td>...</td>\n",
       "      <td>...</td>\n",
       "      <td>...</td>\n",
       "      <td>...</td>\n",
       "      <td>...</td>\n",
       "    </tr>\n",
       "    <tr>\n",
       "      <th>14992</th>\n",
       "      <td>0.40</td>\n",
       "      <td>0.48</td>\n",
       "      <td>2</td>\n",
       "      <td>155</td>\n",
       "      <td>3</td>\n",
       "      <td>0</td>\n",
       "      <td>1</td>\n",
       "      <td>0</td>\n",
       "      <td>0</td>\n",
       "      <td>0</td>\n",
       "      <td>...</td>\n",
       "      <td>0</td>\n",
       "      <td>0</td>\n",
       "      <td>0</td>\n",
       "      <td>0</td>\n",
       "      <td>0</td>\n",
       "      <td>1</td>\n",
       "      <td>0</td>\n",
       "      <td>0</td>\n",
       "      <td>1</td>\n",
       "      <td>0</td>\n",
       "    </tr>\n",
       "    <tr>\n",
       "      <th>14994</th>\n",
       "      <td>0.40</td>\n",
       "      <td>0.57</td>\n",
       "      <td>2</td>\n",
       "      <td>151</td>\n",
       "      <td>3</td>\n",
       "      <td>0</td>\n",
       "      <td>1</td>\n",
       "      <td>0</td>\n",
       "      <td>0</td>\n",
       "      <td>0</td>\n",
       "      <td>...</td>\n",
       "      <td>0</td>\n",
       "      <td>0</td>\n",
       "      <td>0</td>\n",
       "      <td>0</td>\n",
       "      <td>0</td>\n",
       "      <td>1</td>\n",
       "      <td>0</td>\n",
       "      <td>0</td>\n",
       "      <td>1</td>\n",
       "      <td>0</td>\n",
       "    </tr>\n",
       "    <tr>\n",
       "      <th>14995</th>\n",
       "      <td>0.37</td>\n",
       "      <td>0.48</td>\n",
       "      <td>2</td>\n",
       "      <td>160</td>\n",
       "      <td>3</td>\n",
       "      <td>0</td>\n",
       "      <td>1</td>\n",
       "      <td>0</td>\n",
       "      <td>0</td>\n",
       "      <td>0</td>\n",
       "      <td>...</td>\n",
       "      <td>0</td>\n",
       "      <td>0</td>\n",
       "      <td>0</td>\n",
       "      <td>0</td>\n",
       "      <td>0</td>\n",
       "      <td>1</td>\n",
       "      <td>0</td>\n",
       "      <td>0</td>\n",
       "      <td>1</td>\n",
       "      <td>0</td>\n",
       "    </tr>\n",
       "    <tr>\n",
       "      <th>14996</th>\n",
       "      <td>0.37</td>\n",
       "      <td>0.53</td>\n",
       "      <td>2</td>\n",
       "      <td>143</td>\n",
       "      <td>3</td>\n",
       "      <td>0</td>\n",
       "      <td>1</td>\n",
       "      <td>0</td>\n",
       "      <td>0</td>\n",
       "      <td>0</td>\n",
       "      <td>...</td>\n",
       "      <td>0</td>\n",
       "      <td>0</td>\n",
       "      <td>0</td>\n",
       "      <td>0</td>\n",
       "      <td>0</td>\n",
       "      <td>1</td>\n",
       "      <td>0</td>\n",
       "      <td>0</td>\n",
       "      <td>1</td>\n",
       "      <td>0</td>\n",
       "    </tr>\n",
       "    <tr>\n",
       "      <th>14998</th>\n",
       "      <td>0.37</td>\n",
       "      <td>0.52</td>\n",
       "      <td>2</td>\n",
       "      <td>158</td>\n",
       "      <td>3</td>\n",
       "      <td>0</td>\n",
       "      <td>1</td>\n",
       "      <td>0</td>\n",
       "      <td>0</td>\n",
       "      <td>0</td>\n",
       "      <td>...</td>\n",
       "      <td>0</td>\n",
       "      <td>0</td>\n",
       "      <td>0</td>\n",
       "      <td>0</td>\n",
       "      <td>0</td>\n",
       "      <td>1</td>\n",
       "      <td>0</td>\n",
       "      <td>0</td>\n",
       "      <td>1</td>\n",
       "      <td>0</td>\n",
       "    </tr>\n",
       "  </tbody>\n",
       "</table>\n",
       "<p>9300 rows × 21 columns</p>\n",
       "</div>"
      ],
      "text/plain": [
       "       satisfaction_level  last_evaluation  number_project  \\\n",
       "0                    0.38             0.53               2   \n",
       "4                    0.37             0.52               2   \n",
       "5                    0.41             0.50               2   \n",
       "9                    0.42             0.53               2   \n",
       "10                   0.45             0.54               2   \n",
       "...                   ...              ...             ...   \n",
       "14992                0.40             0.48               2   \n",
       "14994                0.40             0.57               2   \n",
       "14995                0.37             0.48               2   \n",
       "14996                0.37             0.53               2   \n",
       "14998                0.37             0.52               2   \n",
       "\n",
       "       average_montly_hours  time_spend_company  Work_accident  left  \\\n",
       "0                       157                   3              0     1   \n",
       "4                       159                   3              0     1   \n",
       "5                       153                   3              0     1   \n",
       "9                       142                   3              0     1   \n",
       "10                      135                   3              0     1   \n",
       "...                     ...                 ...            ...   ...   \n",
       "14992                   155                   3              0     1   \n",
       "14994                   151                   3              0     1   \n",
       "14995                   160                   3              0     1   \n",
       "14996                   143                   3              0     1   \n",
       "14998                   158                   3              0     1   \n",
       "\n",
       "       promotion_last_5years  Department_IT  Department_RandD  ...  \\\n",
       "0                          0              0                 0  ...   \n",
       "4                          0              0                 0  ...   \n",
       "5                          0              0                 0  ...   \n",
       "9                          0              0                 0  ...   \n",
       "10                         0              0                 0  ...   \n",
       "...                      ...            ...               ...  ...   \n",
       "14992                      0              0                 0  ...   \n",
       "14994                      0              0                 0  ...   \n",
       "14995                      0              0                 0  ...   \n",
       "14996                      0              0                 0  ...   \n",
       "14998                      0              0                 0  ...   \n",
       "\n",
       "       Department_hr  Department_management  Department_marketing  \\\n",
       "0                  0                      0                     0   \n",
       "4                  0                      0                     0   \n",
       "5                  0                      0                     0   \n",
       "9                  0                      0                     0   \n",
       "10                 0                      0                     0   \n",
       "...              ...                    ...                   ...   \n",
       "14992              0                      0                     0   \n",
       "14994              0                      0                     0   \n",
       "14995              0                      0                     0   \n",
       "14996              0                      0                     0   \n",
       "14998              0                      0                     0   \n",
       "\n",
       "       Department_product_mng  Department_sales  Department_support  \\\n",
       "0                           0                 1                   0   \n",
       "4                           0                 1                   0   \n",
       "5                           0                 1                   0   \n",
       "9                           0                 1                   0   \n",
       "10                          0                 1                   0   \n",
       "...                       ...               ...                 ...   \n",
       "14992                       0                 0                   1   \n",
       "14994                       0                 0                   1   \n",
       "14995                       0                 0                   1   \n",
       "14996                       0                 0                   1   \n",
       "14998                       0                 0                   1   \n",
       "\n",
       "       Department_technical  salary_high  salary_low  salary_medium  \n",
       "0                         0            0           1              0  \n",
       "4                         0            0           1              0  \n",
       "5                         0            0           1              0  \n",
       "9                         0            0           1              0  \n",
       "10                        0            0           1              0  \n",
       "...                     ...          ...         ...            ...  \n",
       "14992                     0            0           1              0  \n",
       "14994                     0            0           1              0  \n",
       "14995                     0            0           1              0  \n",
       "14996                     0            0           1              0  \n",
       "14998                     0            0           1              0  \n",
       "\n",
       "[9300 rows x 21 columns]"
      ]
     },
     "execution_count": 27,
     "metadata": {},
     "output_type": "execute_result"
    }
   ],
   "source": [
    "df_filter"
   ]
  },
  {
   "cell_type": "code",
   "execution_count": 28,
   "id": "2143bcfa",
   "metadata": {},
   "outputs": [
    {
     "data": {
      "text/html": [
       "<div>\n",
       "<style scoped>\n",
       "    .dataframe tbody tr th:only-of-type {\n",
       "        vertical-align: middle;\n",
       "    }\n",
       "\n",
       "    .dataframe tbody tr th {\n",
       "        vertical-align: top;\n",
       "    }\n",
       "\n",
       "    .dataframe thead th {\n",
       "        text-align: right;\n",
       "    }\n",
       "</style>\n",
       "<table border=\"1\" class=\"dataframe\">\n",
       "  <thead>\n",
       "    <tr style=\"text-align: right;\">\n",
       "      <th></th>\n",
       "      <th>satisfaction_level</th>\n",
       "      <th>last_evaluation</th>\n",
       "      <th>number_project</th>\n",
       "      <th>average_montly_hours</th>\n",
       "      <th>time_spend_company</th>\n",
       "      <th>Work_accident</th>\n",
       "      <th>left</th>\n",
       "      <th>promotion_last_5years</th>\n",
       "      <th>Department_IT</th>\n",
       "      <th>Department_RandD</th>\n",
       "      <th>...</th>\n",
       "      <th>Department_hr</th>\n",
       "      <th>Department_management</th>\n",
       "      <th>Department_marketing</th>\n",
       "      <th>Department_product_mng</th>\n",
       "      <th>Department_sales</th>\n",
       "      <th>Department_support</th>\n",
       "      <th>Department_technical</th>\n",
       "      <th>salary_high</th>\n",
       "      <th>salary_low</th>\n",
       "      <th>salary_medium</th>\n",
       "    </tr>\n",
       "  </thead>\n",
       "  <tbody>\n",
       "    <tr>\n",
       "      <th>satisfaction_level</th>\n",
       "      <td>1.000000</td>\n",
       "      <td>0.105021</td>\n",
       "      <td>-0.142970</td>\n",
       "      <td>-0.020048</td>\n",
       "      <td>-0.100866</td>\n",
       "      <td>0.058697</td>\n",
       "      <td>-0.388375</td>\n",
       "      <td>0.025605</td>\n",
       "      <td>0.006373</td>\n",
       "      <td>0.006615</td>\n",
       "      <td>...</td>\n",
       "      <td>-0.012841</td>\n",
       "      <td>0.007172</td>\n",
       "      <td>0.005715</td>\n",
       "      <td>0.006919</td>\n",
       "      <td>0.004007</td>\n",
       "      <td>0.009185</td>\n",
       "      <td>-0.009345</td>\n",
       "      <td>0.029708</td>\n",
       "      <td>-0.047415</td>\n",
       "      <td>0.031367</td>\n",
       "    </tr>\n",
       "    <tr>\n",
       "      <th>last_evaluation</th>\n",
       "      <td>0.105021</td>\n",
       "      <td>1.000000</td>\n",
       "      <td>0.349333</td>\n",
       "      <td>0.339742</td>\n",
       "      <td>0.131591</td>\n",
       "      <td>-0.007104</td>\n",
       "      <td>0.006567</td>\n",
       "      <td>-0.008684</td>\n",
       "      <td>0.001269</td>\n",
       "      <td>-0.005471</td>\n",
       "      <td>...</td>\n",
       "      <td>-0.009645</td>\n",
       "      <td>0.009662</td>\n",
       "      <td>-0.000311</td>\n",
       "      <td>-0.001989</td>\n",
       "      <td>-0.023031</td>\n",
       "      <td>0.017104</td>\n",
       "      <td>0.013742</td>\n",
       "      <td>-0.020628</td>\n",
       "      <td>0.005221</td>\n",
       "      <td>0.006191</td>\n",
       "    </tr>\n",
       "    <tr>\n",
       "      <th>number_project</th>\n",
       "      <td>-0.142970</td>\n",
       "      <td>0.349333</td>\n",
       "      <td>1.000000</td>\n",
       "      <td>0.417211</td>\n",
       "      <td>0.196786</td>\n",
       "      <td>-0.004741</td>\n",
       "      <td>0.023787</td>\n",
       "      <td>-0.006064</td>\n",
       "      <td>0.003287</td>\n",
       "      <td>0.009703</td>\n",
       "      <td>...</td>\n",
       "      <td>-0.027356</td>\n",
       "      <td>0.009728</td>\n",
       "      <td>-0.023064</td>\n",
       "      <td>0.000829</td>\n",
       "      <td>-0.013388</td>\n",
       "      <td>0.000303</td>\n",
       "      <td>0.028596</td>\n",
       "      <td>-0.008726</td>\n",
       "      <td>-0.002504</td>\n",
       "      <td>0.007377</td>\n",
       "    </tr>\n",
       "    <tr>\n",
       "      <th>average_montly_hours</th>\n",
       "      <td>-0.020048</td>\n",
       "      <td>0.339742</td>\n",
       "      <td>0.417211</td>\n",
       "      <td>1.000000</td>\n",
       "      <td>0.127755</td>\n",
       "      <td>-0.010143</td>\n",
       "      <td>0.071287</td>\n",
       "      <td>-0.003544</td>\n",
       "      <td>0.006967</td>\n",
       "      <td>-0.001177</td>\n",
       "      <td>...</td>\n",
       "      <td>-0.010783</td>\n",
       "      <td>0.000834</td>\n",
       "      <td>-0.008210</td>\n",
       "      <td>-0.005494</td>\n",
       "      <td>-0.001718</td>\n",
       "      <td>-0.002444</td>\n",
       "      <td>0.013638</td>\n",
       "      <td>-0.007101</td>\n",
       "      <td>-0.001050</td>\n",
       "      <td>0.005007</td>\n",
       "    </tr>\n",
       "    <tr>\n",
       "      <th>time_spend_company</th>\n",
       "      <td>-0.100866</td>\n",
       "      <td>0.131591</td>\n",
       "      <td>0.196786</td>\n",
       "      <td>0.127755</td>\n",
       "      <td>1.000000</td>\n",
       "      <td>0.002120</td>\n",
       "      <td>0.144822</td>\n",
       "      <td>0.067433</td>\n",
       "      <td>-0.006053</td>\n",
       "      <td>-0.021116</td>\n",
       "      <td>...</td>\n",
       "      <td>-0.022194</td>\n",
       "      <td>0.115436</td>\n",
       "      <td>0.012096</td>\n",
       "      <td>-0.003919</td>\n",
       "      <td>0.015150</td>\n",
       "      <td>-0.030111</td>\n",
       "      <td>-0.027991</td>\n",
       "      <td>0.039953</td>\n",
       "      <td>-0.040110</td>\n",
       "      <td>0.018299</td>\n",
       "    </tr>\n",
       "    <tr>\n",
       "      <th>Work_accident</th>\n",
       "      <td>0.058697</td>\n",
       "      <td>-0.007104</td>\n",
       "      <td>-0.004741</td>\n",
       "      <td>-0.010143</td>\n",
       "      <td>0.002120</td>\n",
       "      <td>1.000000</td>\n",
       "      <td>-0.154622</td>\n",
       "      <td>0.039245</td>\n",
       "      <td>-0.009293</td>\n",
       "      <td>0.017167</td>\n",
       "      <td>...</td>\n",
       "      <td>-0.015649</td>\n",
       "      <td>0.011242</td>\n",
       "      <td>0.011367</td>\n",
       "      <td>0.001246</td>\n",
       "      <td>-0.004955</td>\n",
       "      <td>0.012079</td>\n",
       "      <td>-0.006070</td>\n",
       "      <td>0.009040</td>\n",
       "      <td>-0.006813</td>\n",
       "      <td>0.001856</td>\n",
       "    </tr>\n",
       "    <tr>\n",
       "      <th>left</th>\n",
       "      <td>-0.388375</td>\n",
       "      <td>0.006567</td>\n",
       "      <td>0.023787</td>\n",
       "      <td>0.071287</td>\n",
       "      <td>0.144822</td>\n",
       "      <td>-0.154622</td>\n",
       "      <td>1.000000</td>\n",
       "      <td>-0.061788</td>\n",
       "      <td>-0.010925</td>\n",
       "      <td>-0.046596</td>\n",
       "      <td>...</td>\n",
       "      <td>0.028249</td>\n",
       "      <td>-0.046035</td>\n",
       "      <td>-0.000859</td>\n",
       "      <td>-0.011029</td>\n",
       "      <td>0.009923</td>\n",
       "      <td>0.010700</td>\n",
       "      <td>0.020076</td>\n",
       "      <td>-0.120929</td>\n",
       "      <td>0.134722</td>\n",
       "      <td>-0.068833</td>\n",
       "    </tr>\n",
       "    <tr>\n",
       "      <th>promotion_last_5years</th>\n",
       "      <td>0.025605</td>\n",
       "      <td>-0.008684</td>\n",
       "      <td>-0.006064</td>\n",
       "      <td>-0.003544</td>\n",
       "      <td>0.067433</td>\n",
       "      <td>0.039245</td>\n",
       "      <td>-0.061788</td>\n",
       "      <td>1.000000</td>\n",
       "      <td>-0.038942</td>\n",
       "      <td>0.021268</td>\n",
       "      <td>...</td>\n",
       "      <td>-0.001531</td>\n",
       "      <td>0.128087</td>\n",
       "      <td>0.049253</td>\n",
       "      <td>-0.037288</td>\n",
       "      <td>0.012353</td>\n",
       "      <td>-0.035605</td>\n",
       "      <td>-0.035799</td>\n",
       "      <td>0.076756</td>\n",
       "      <td>-0.082832</td>\n",
       "      <td>0.040985</td>\n",
       "    </tr>\n",
       "    <tr>\n",
       "      <th>Department_IT</th>\n",
       "      <td>0.006373</td>\n",
       "      <td>0.001269</td>\n",
       "      <td>0.003287</td>\n",
       "      <td>0.006967</td>\n",
       "      <td>-0.006053</td>\n",
       "      <td>-0.009293</td>\n",
       "      <td>-0.010925</td>\n",
       "      <td>-0.038942</td>\n",
       "      <td>1.000000</td>\n",
       "      <td>-0.070240</td>\n",
       "      <td>...</td>\n",
       "      <td>-0.067949</td>\n",
       "      <td>-0.062500</td>\n",
       "      <td>-0.073524</td>\n",
       "      <td>-0.075503</td>\n",
       "      <td>-0.184302</td>\n",
       "      <td>-0.124705</td>\n",
       "      <td>-0.140484</td>\n",
       "      <td>-0.016089</td>\n",
       "      <td>0.005116</td>\n",
       "      <td>0.003775</td>\n",
       "    </tr>\n",
       "    <tr>\n",
       "      <th>Department_RandD</th>\n",
       "      <td>0.006615</td>\n",
       "      <td>-0.005471</td>\n",
       "      <td>0.009703</td>\n",
       "      <td>-0.001177</td>\n",
       "      <td>-0.021116</td>\n",
       "      <td>0.017167</td>\n",
       "      <td>-0.046596</td>\n",
       "      <td>0.021268</td>\n",
       "      <td>-0.070240</td>\n",
       "      <td>1.000000</td>\n",
       "      <td>...</td>\n",
       "      <td>-0.053570</td>\n",
       "      <td>-0.049274</td>\n",
       "      <td>-0.057965</td>\n",
       "      <td>-0.059525</td>\n",
       "      <td>-0.145300</td>\n",
       "      <td>-0.098315</td>\n",
       "      <td>-0.110755</td>\n",
       "      <td>-0.015115</td>\n",
       "      <td>-0.011887</td>\n",
       "      <td>0.020402</td>\n",
       "    </tr>\n",
       "    <tr>\n",
       "      <th>Department_accounting</th>\n",
       "      <td>-0.028649</td>\n",
       "      <td>0.002193</td>\n",
       "      <td>0.004189</td>\n",
       "      <td>0.000524</td>\n",
       "      <td>0.003909</td>\n",
       "      <td>-0.012836</td>\n",
       "      <td>0.015201</td>\n",
       "      <td>-0.004852</td>\n",
       "      <td>-0.069293</td>\n",
       "      <td>-0.054629</td>\n",
       "      <td>...</td>\n",
       "      <td>-0.052848</td>\n",
       "      <td>-0.048610</td>\n",
       "      <td>-0.057183</td>\n",
       "      <td>-0.058723</td>\n",
       "      <td>-0.143341</td>\n",
       "      <td>-0.096989</td>\n",
       "      <td>-0.109262</td>\n",
       "      <td>0.011821</td>\n",
       "      <td>-0.009759</td>\n",
       "      <td>0.003285</td>\n",
       "    </tr>\n",
       "    <tr>\n",
       "      <th>Department_hr</th>\n",
       "      <td>-0.012841</td>\n",
       "      <td>-0.009645</td>\n",
       "      <td>-0.027356</td>\n",
       "      <td>-0.010783</td>\n",
       "      <td>-0.022194</td>\n",
       "      <td>-0.015649</td>\n",
       "      <td>0.028249</td>\n",
       "      <td>-0.001531</td>\n",
       "      <td>-0.067949</td>\n",
       "      <td>-0.053570</td>\n",
       "      <td>...</td>\n",
       "      <td>1.000000</td>\n",
       "      <td>-0.047667</td>\n",
       "      <td>-0.056075</td>\n",
       "      <td>-0.057584</td>\n",
       "      <td>-0.140562</td>\n",
       "      <td>-0.095109</td>\n",
       "      <td>-0.107143</td>\n",
       "      <td>-0.017858</td>\n",
       "      <td>-0.015690</td>\n",
       "      <td>0.025765</td>\n",
       "    </tr>\n",
       "    <tr>\n",
       "      <th>Department_management</th>\n",
       "      <td>0.007172</td>\n",
       "      <td>0.009662</td>\n",
       "      <td>0.009728</td>\n",
       "      <td>0.000834</td>\n",
       "      <td>0.115436</td>\n",
       "      <td>0.011242</td>\n",
       "      <td>-0.046035</td>\n",
       "      <td>0.128087</td>\n",
       "      <td>-0.062500</td>\n",
       "      <td>-0.049274</td>\n",
       "      <td>...</td>\n",
       "      <td>-0.047667</td>\n",
       "      <td>1.000000</td>\n",
       "      <td>-0.051578</td>\n",
       "      <td>-0.052966</td>\n",
       "      <td>-0.129289</td>\n",
       "      <td>-0.087482</td>\n",
       "      <td>-0.098551</td>\n",
       "      <td>0.209077</td>\n",
       "      <td>-0.084641</td>\n",
       "      <td>-0.030716</td>\n",
       "    </tr>\n",
       "    <tr>\n",
       "      <th>Department_marketing</th>\n",
       "      <td>0.005715</td>\n",
       "      <td>-0.000311</td>\n",
       "      <td>-0.023064</td>\n",
       "      <td>-0.008210</td>\n",
       "      <td>0.012096</td>\n",
       "      <td>0.011367</td>\n",
       "      <td>-0.000859</td>\n",
       "      <td>0.049253</td>\n",
       "      <td>-0.073524</td>\n",
       "      <td>-0.057965</td>\n",
       "      <td>...</td>\n",
       "      <td>-0.056075</td>\n",
       "      <td>-0.051578</td>\n",
       "      <td>1.000000</td>\n",
       "      <td>-0.062308</td>\n",
       "      <td>-0.152093</td>\n",
       "      <td>-0.102911</td>\n",
       "      <td>-0.115933</td>\n",
       "      <td>0.009642</td>\n",
       "      <td>-0.009479</td>\n",
       "      <td>0.004213</td>\n",
       "    </tr>\n",
       "    <tr>\n",
       "      <th>Department_product_mng</th>\n",
       "      <td>0.006919</td>\n",
       "      <td>-0.001989</td>\n",
       "      <td>0.000829</td>\n",
       "      <td>-0.005494</td>\n",
       "      <td>-0.003919</td>\n",
       "      <td>0.001246</td>\n",
       "      <td>-0.011029</td>\n",
       "      <td>-0.037288</td>\n",
       "      <td>-0.075503</td>\n",
       "      <td>-0.059525</td>\n",
       "      <td>...</td>\n",
       "      <td>-0.057584</td>\n",
       "      <td>-0.052966</td>\n",
       "      <td>-0.062308</td>\n",
       "      <td>1.000000</td>\n",
       "      <td>-0.156187</td>\n",
       "      <td>-0.105682</td>\n",
       "      <td>-0.119054</td>\n",
       "      <td>-0.006514</td>\n",
       "      <td>0.006191</td>\n",
       "      <td>-0.002632</td>\n",
       "    </tr>\n",
       "    <tr>\n",
       "      <th>Department_sales</th>\n",
       "      <td>0.004007</td>\n",
       "      <td>-0.023031</td>\n",
       "      <td>-0.013388</td>\n",
       "      <td>-0.001718</td>\n",
       "      <td>0.015150</td>\n",
       "      <td>-0.004955</td>\n",
       "      <td>0.009923</td>\n",
       "      <td>0.012353</td>\n",
       "      <td>-0.184302</td>\n",
       "      <td>-0.145300</td>\n",
       "      <td>...</td>\n",
       "      <td>-0.140562</td>\n",
       "      <td>-0.129289</td>\n",
       "      <td>-0.152093</td>\n",
       "      <td>-0.156187</td>\n",
       "      <td>1.000000</td>\n",
       "      <td>-0.257967</td>\n",
       "      <td>-0.290608</td>\n",
       "      <td>-0.039273</td>\n",
       "      <td>0.023766</td>\n",
       "      <td>-0.002174</td>\n",
       "    </tr>\n",
       "    <tr>\n",
       "      <th>Department_support</th>\n",
       "      <td>0.009185</td>\n",
       "      <td>0.017104</td>\n",
       "      <td>0.000303</td>\n",
       "      <td>-0.002444</td>\n",
       "      <td>-0.030111</td>\n",
       "      <td>0.012079</td>\n",
       "      <td>0.010700</td>\n",
       "      <td>-0.035605</td>\n",
       "      <td>-0.124705</td>\n",
       "      <td>-0.098315</td>\n",
       "      <td>...</td>\n",
       "      <td>-0.095109</td>\n",
       "      <td>-0.087482</td>\n",
       "      <td>-0.102911</td>\n",
       "      <td>-0.105682</td>\n",
       "      <td>-0.257967</td>\n",
       "      <td>1.000000</td>\n",
       "      <td>-0.196636</td>\n",
       "      <td>-0.029184</td>\n",
       "      <td>0.022038</td>\n",
       "      <td>-0.006035</td>\n",
       "    </tr>\n",
       "    <tr>\n",
       "      <th>Department_technical</th>\n",
       "      <td>-0.009345</td>\n",
       "      <td>0.013742</td>\n",
       "      <td>0.028596</td>\n",
       "      <td>0.013638</td>\n",
       "      <td>-0.027991</td>\n",
       "      <td>-0.006070</td>\n",
       "      <td>0.020076</td>\n",
       "      <td>-0.035799</td>\n",
       "      <td>-0.140484</td>\n",
       "      <td>-0.110755</td>\n",
       "      <td>...</td>\n",
       "      <td>-0.107143</td>\n",
       "      <td>-0.098551</td>\n",
       "      <td>-0.115933</td>\n",
       "      <td>-0.119054</td>\n",
       "      <td>-0.290608</td>\n",
       "      <td>-0.196636</td>\n",
       "      <td>1.000000</td>\n",
       "      <td>-0.014672</td>\n",
       "      <td>0.015674</td>\n",
       "      <td>-0.007673</td>\n",
       "    </tr>\n",
       "    <tr>\n",
       "      <th>salary_high</th>\n",
       "      <td>0.029708</td>\n",
       "      <td>-0.020628</td>\n",
       "      <td>-0.008726</td>\n",
       "      <td>-0.007101</td>\n",
       "      <td>0.039953</td>\n",
       "      <td>0.009040</td>\n",
       "      <td>-0.120929</td>\n",
       "      <td>0.076756</td>\n",
       "      <td>-0.016089</td>\n",
       "      <td>-0.015115</td>\n",
       "      <td>...</td>\n",
       "      <td>-0.017858</td>\n",
       "      <td>0.209077</td>\n",
       "      <td>0.009642</td>\n",
       "      <td>-0.006514</td>\n",
       "      <td>-0.039273</td>\n",
       "      <td>-0.029184</td>\n",
       "      <td>-0.014672</td>\n",
       "      <td>1.000000</td>\n",
       "      <td>-0.292560</td>\n",
       "      <td>-0.260274</td>\n",
       "    </tr>\n",
       "    <tr>\n",
       "      <th>salary_low</th>\n",
       "      <td>-0.047415</td>\n",
       "      <td>0.005221</td>\n",
       "      <td>-0.002504</td>\n",
       "      <td>-0.001050</td>\n",
       "      <td>-0.040110</td>\n",
       "      <td>-0.006813</td>\n",
       "      <td>0.134722</td>\n",
       "      <td>-0.082832</td>\n",
       "      <td>0.005116</td>\n",
       "      <td>-0.011887</td>\n",
       "      <td>...</td>\n",
       "      <td>-0.015690</td>\n",
       "      <td>-0.084641</td>\n",
       "      <td>-0.009479</td>\n",
       "      <td>0.006191</td>\n",
       "      <td>0.023766</td>\n",
       "      <td>0.022038</td>\n",
       "      <td>0.015674</td>\n",
       "      <td>-0.292560</td>\n",
       "      <td>1.000000</td>\n",
       "      <td>-0.847144</td>\n",
       "    </tr>\n",
       "    <tr>\n",
       "      <th>salary_medium</th>\n",
       "      <td>0.031367</td>\n",
       "      <td>0.006191</td>\n",
       "      <td>0.007377</td>\n",
       "      <td>0.005007</td>\n",
       "      <td>0.018299</td>\n",
       "      <td>0.001856</td>\n",
       "      <td>-0.068833</td>\n",
       "      <td>0.040985</td>\n",
       "      <td>0.003775</td>\n",
       "      <td>0.020402</td>\n",
       "      <td>...</td>\n",
       "      <td>0.025765</td>\n",
       "      <td>-0.030716</td>\n",
       "      <td>0.004213</td>\n",
       "      <td>-0.002632</td>\n",
       "      <td>-0.002174</td>\n",
       "      <td>-0.006035</td>\n",
       "      <td>-0.007673</td>\n",
       "      <td>-0.260274</td>\n",
       "      <td>-0.847144</td>\n",
       "      <td>1.000000</td>\n",
       "    </tr>\n",
       "  </tbody>\n",
       "</table>\n",
       "<p>21 rows × 21 columns</p>\n",
       "</div>"
      ],
      "text/plain": [
       "                        satisfaction_level  last_evaluation  number_project  \\\n",
       "satisfaction_level                1.000000         0.105021       -0.142970   \n",
       "last_evaluation                   0.105021         1.000000        0.349333   \n",
       "number_project                   -0.142970         0.349333        1.000000   \n",
       "average_montly_hours             -0.020048         0.339742        0.417211   \n",
       "time_spend_company               -0.100866         0.131591        0.196786   \n",
       "Work_accident                     0.058697        -0.007104       -0.004741   \n",
       "left                             -0.388375         0.006567        0.023787   \n",
       "promotion_last_5years             0.025605        -0.008684       -0.006064   \n",
       "Department_IT                     0.006373         0.001269        0.003287   \n",
       "Department_RandD                  0.006615        -0.005471        0.009703   \n",
       "Department_accounting            -0.028649         0.002193        0.004189   \n",
       "Department_hr                    -0.012841        -0.009645       -0.027356   \n",
       "Department_management             0.007172         0.009662        0.009728   \n",
       "Department_marketing              0.005715        -0.000311       -0.023064   \n",
       "Department_product_mng            0.006919        -0.001989        0.000829   \n",
       "Department_sales                  0.004007        -0.023031       -0.013388   \n",
       "Department_support                0.009185         0.017104        0.000303   \n",
       "Department_technical             -0.009345         0.013742        0.028596   \n",
       "salary_high                       0.029708        -0.020628       -0.008726   \n",
       "salary_low                       -0.047415         0.005221       -0.002504   \n",
       "salary_medium                     0.031367         0.006191        0.007377   \n",
       "\n",
       "                        average_montly_hours  time_spend_company  \\\n",
       "satisfaction_level                 -0.020048           -0.100866   \n",
       "last_evaluation                     0.339742            0.131591   \n",
       "number_project                      0.417211            0.196786   \n",
       "average_montly_hours                1.000000            0.127755   \n",
       "time_spend_company                  0.127755            1.000000   \n",
       "Work_accident                      -0.010143            0.002120   \n",
       "left                                0.071287            0.144822   \n",
       "promotion_last_5years              -0.003544            0.067433   \n",
       "Department_IT                       0.006967           -0.006053   \n",
       "Department_RandD                   -0.001177           -0.021116   \n",
       "Department_accounting               0.000524            0.003909   \n",
       "Department_hr                      -0.010783           -0.022194   \n",
       "Department_management               0.000834            0.115436   \n",
       "Department_marketing               -0.008210            0.012096   \n",
       "Department_product_mng             -0.005494           -0.003919   \n",
       "Department_sales                   -0.001718            0.015150   \n",
       "Department_support                 -0.002444           -0.030111   \n",
       "Department_technical                0.013638           -0.027991   \n",
       "salary_high                        -0.007101            0.039953   \n",
       "salary_low                         -0.001050           -0.040110   \n",
       "salary_medium                       0.005007            0.018299   \n",
       "\n",
       "                        Work_accident      left  promotion_last_5years  \\\n",
       "satisfaction_level           0.058697 -0.388375               0.025605   \n",
       "last_evaluation             -0.007104  0.006567              -0.008684   \n",
       "number_project              -0.004741  0.023787              -0.006064   \n",
       "average_montly_hours        -0.010143  0.071287              -0.003544   \n",
       "time_spend_company           0.002120  0.144822               0.067433   \n",
       "Work_accident                1.000000 -0.154622               0.039245   \n",
       "left                        -0.154622  1.000000              -0.061788   \n",
       "promotion_last_5years        0.039245 -0.061788               1.000000   \n",
       "Department_IT               -0.009293 -0.010925              -0.038942   \n",
       "Department_RandD             0.017167 -0.046596               0.021268   \n",
       "Department_accounting       -0.012836  0.015201              -0.004852   \n",
       "Department_hr               -0.015649  0.028249              -0.001531   \n",
       "Department_management        0.011242 -0.046035               0.128087   \n",
       "Department_marketing         0.011367 -0.000859               0.049253   \n",
       "Department_product_mng       0.001246 -0.011029              -0.037288   \n",
       "Department_sales            -0.004955  0.009923               0.012353   \n",
       "Department_support           0.012079  0.010700              -0.035605   \n",
       "Department_technical        -0.006070  0.020076              -0.035799   \n",
       "salary_high                  0.009040 -0.120929               0.076756   \n",
       "salary_low                  -0.006813  0.134722              -0.082832   \n",
       "salary_medium                0.001856 -0.068833               0.040985   \n",
       "\n",
       "                        Department_IT  Department_RandD  ...  Department_hr  \\\n",
       "satisfaction_level           0.006373          0.006615  ...      -0.012841   \n",
       "last_evaluation              0.001269         -0.005471  ...      -0.009645   \n",
       "number_project               0.003287          0.009703  ...      -0.027356   \n",
       "average_montly_hours         0.006967         -0.001177  ...      -0.010783   \n",
       "time_spend_company          -0.006053         -0.021116  ...      -0.022194   \n",
       "Work_accident               -0.009293          0.017167  ...      -0.015649   \n",
       "left                        -0.010925         -0.046596  ...       0.028249   \n",
       "promotion_last_5years       -0.038942          0.021268  ...      -0.001531   \n",
       "Department_IT                1.000000         -0.070240  ...      -0.067949   \n",
       "Department_RandD            -0.070240          1.000000  ...      -0.053570   \n",
       "Department_accounting       -0.069293         -0.054629  ...      -0.052848   \n",
       "Department_hr               -0.067949         -0.053570  ...       1.000000   \n",
       "Department_management       -0.062500         -0.049274  ...      -0.047667   \n",
       "Department_marketing        -0.073524         -0.057965  ...      -0.056075   \n",
       "Department_product_mng      -0.075503         -0.059525  ...      -0.057584   \n",
       "Department_sales            -0.184302         -0.145300  ...      -0.140562   \n",
       "Department_support          -0.124705         -0.098315  ...      -0.095109   \n",
       "Department_technical        -0.140484         -0.110755  ...      -0.107143   \n",
       "salary_high                 -0.016089         -0.015115  ...      -0.017858   \n",
       "salary_low                   0.005116         -0.011887  ...      -0.015690   \n",
       "salary_medium                0.003775          0.020402  ...       0.025765   \n",
       "\n",
       "                        Department_management  Department_marketing  \\\n",
       "satisfaction_level                   0.007172              0.005715   \n",
       "last_evaluation                      0.009662             -0.000311   \n",
       "number_project                       0.009728             -0.023064   \n",
       "average_montly_hours                 0.000834             -0.008210   \n",
       "time_spend_company                   0.115436              0.012096   \n",
       "Work_accident                        0.011242              0.011367   \n",
       "left                                -0.046035             -0.000859   \n",
       "promotion_last_5years                0.128087              0.049253   \n",
       "Department_IT                       -0.062500             -0.073524   \n",
       "Department_RandD                    -0.049274             -0.057965   \n",
       "Department_accounting               -0.048610             -0.057183   \n",
       "Department_hr                       -0.047667             -0.056075   \n",
       "Department_management                1.000000             -0.051578   \n",
       "Department_marketing                -0.051578              1.000000   \n",
       "Department_product_mng              -0.052966             -0.062308   \n",
       "Department_sales                    -0.129289             -0.152093   \n",
       "Department_support                  -0.087482             -0.102911   \n",
       "Department_technical                -0.098551             -0.115933   \n",
       "salary_high                          0.209077              0.009642   \n",
       "salary_low                          -0.084641             -0.009479   \n",
       "salary_medium                       -0.030716              0.004213   \n",
       "\n",
       "                        Department_product_mng  Department_sales  \\\n",
       "satisfaction_level                    0.006919          0.004007   \n",
       "last_evaluation                      -0.001989         -0.023031   \n",
       "number_project                        0.000829         -0.013388   \n",
       "average_montly_hours                 -0.005494         -0.001718   \n",
       "time_spend_company                   -0.003919          0.015150   \n",
       "Work_accident                         0.001246         -0.004955   \n",
       "left                                 -0.011029          0.009923   \n",
       "promotion_last_5years                -0.037288          0.012353   \n",
       "Department_IT                        -0.075503         -0.184302   \n",
       "Department_RandD                     -0.059525         -0.145300   \n",
       "Department_accounting                -0.058723         -0.143341   \n",
       "Department_hr                        -0.057584         -0.140562   \n",
       "Department_management                -0.052966         -0.129289   \n",
       "Department_marketing                 -0.062308         -0.152093   \n",
       "Department_product_mng                1.000000         -0.156187   \n",
       "Department_sales                     -0.156187          1.000000   \n",
       "Department_support                   -0.105682         -0.257967   \n",
       "Department_technical                 -0.119054         -0.290608   \n",
       "salary_high                          -0.006514         -0.039273   \n",
       "salary_low                            0.006191          0.023766   \n",
       "salary_medium                        -0.002632         -0.002174   \n",
       "\n",
       "                        Department_support  Department_technical  salary_high  \\\n",
       "satisfaction_level                0.009185             -0.009345     0.029708   \n",
       "last_evaluation                   0.017104              0.013742    -0.020628   \n",
       "number_project                    0.000303              0.028596    -0.008726   \n",
       "average_montly_hours             -0.002444              0.013638    -0.007101   \n",
       "time_spend_company               -0.030111             -0.027991     0.039953   \n",
       "Work_accident                     0.012079             -0.006070     0.009040   \n",
       "left                              0.010700              0.020076    -0.120929   \n",
       "promotion_last_5years            -0.035605             -0.035799     0.076756   \n",
       "Department_IT                    -0.124705             -0.140484    -0.016089   \n",
       "Department_RandD                 -0.098315             -0.110755    -0.015115   \n",
       "Department_accounting            -0.096989             -0.109262     0.011821   \n",
       "Department_hr                    -0.095109             -0.107143    -0.017858   \n",
       "Department_management            -0.087482             -0.098551     0.209077   \n",
       "Department_marketing             -0.102911             -0.115933     0.009642   \n",
       "Department_product_mng           -0.105682             -0.119054    -0.006514   \n",
       "Department_sales                 -0.257967             -0.290608    -0.039273   \n",
       "Department_support                1.000000             -0.196636    -0.029184   \n",
       "Department_technical             -0.196636              1.000000    -0.014672   \n",
       "salary_high                      -0.029184             -0.014672     1.000000   \n",
       "salary_low                        0.022038              0.015674    -0.292560   \n",
       "salary_medium                    -0.006035             -0.007673    -0.260274   \n",
       "\n",
       "                        salary_low  salary_medium  \n",
       "satisfaction_level       -0.047415       0.031367  \n",
       "last_evaluation           0.005221       0.006191  \n",
       "number_project           -0.002504       0.007377  \n",
       "average_montly_hours     -0.001050       0.005007  \n",
       "time_spend_company       -0.040110       0.018299  \n",
       "Work_accident            -0.006813       0.001856  \n",
       "left                      0.134722      -0.068833  \n",
       "promotion_last_5years    -0.082832       0.040985  \n",
       "Department_IT             0.005116       0.003775  \n",
       "Department_RandD         -0.011887       0.020402  \n",
       "Department_accounting    -0.009759       0.003285  \n",
       "Department_hr            -0.015690       0.025765  \n",
       "Department_management    -0.084641      -0.030716  \n",
       "Department_marketing     -0.009479       0.004213  \n",
       "Department_product_mng    0.006191      -0.002632  \n",
       "Department_sales          0.023766      -0.002174  \n",
       "Department_support        0.022038      -0.006035  \n",
       "Department_technical      0.015674      -0.007673  \n",
       "salary_high              -0.292560      -0.260274  \n",
       "salary_low                1.000000      -0.847144  \n",
       "salary_medium            -0.847144       1.000000  \n",
       "\n",
       "[21 rows x 21 columns]"
      ]
     },
     "execution_count": 28,
     "metadata": {},
     "output_type": "execute_result"
    }
   ],
   "source": [
    "df.corr()"
   ]
  },
  {
   "cell_type": "markdown",
   "id": "b4214985",
   "metadata": {},
   "source": [
    "# Checking Data Finally"
   ]
  },
  {
   "cell_type": "code",
   "execution_count": 29,
   "id": "43817fee",
   "metadata": {},
   "outputs": [
    {
     "data": {
      "image/png": "[encoded data removed]",
      "text/plain": [
       "<Figure size 432x288 with 1 Axes>"
      ]
     },
     "metadata": {
      "needs_background": "light"
     },
     "output_type": "display_data"
    },
    {
     "data": {
      "image/png": "[encoded data removed]",
      "text/plain": [
       "<Figure size 432x288 with 1 Axes>"
      ]
     },
     "metadata": {
      "needs_background": "light"
     },
     "output_type": "display_data"
    },
    {
     "data": {
      "image/png": "[encoded data removed]",
      "text/plain": [
       "<Figure size 432x288 with 1 Axes>"
      ]
     },
     "metadata": {
      "needs_background": "light"
     },
     "output_type": "display_data"
    },
    {
     "data": {
      "image/png": "[encoded data removed]",
      "text/plain": [
       "<Figure size 432x288 with 1 Axes>"
      ]
     },
     "metadata": {
      "needs_background": "light"
     },
     "output_type": "display_data"
    },
    {
     "data": {
      "image/png": "[encoded data removed]",
      "text/plain": [
       "<Figure size 432x288 with 1 Axes>"
      ]
     },
     "metadata": {
      "needs_background": "light"
     },
     "output_type": "display_data"
    },
    {
     "data": {
      "image/png": "[encoded data removed]",
      "text/plain": [
       "<Figure size 432x288 with 1 Axes>"
      ]
     },
     "metadata": {
      "needs_background": "light"
     },
     "output_type": "display_data"
    },
    {
     "data": {
      "image/png": "[encoded data removed]",
      "text/plain": [
       "<Figure size 432x288 with 1 Axes>"
      ]
     },
     "metadata": {
      "needs_background": "light"
     },
     "output_type": "display_data"
    },
    {
     "data": {
      "image/png": "[encoded data removed]",
      "text/plain": [
       "<Figure size 432x288 with 1 Axes>"
      ]
     },
     "metadata": {
      "needs_background": "light"
     },
     "output_type": "display_data"
    },
    {
     "data": {
      "image/png": "[encoded data removed]",
      "text/plain": [
       "<Figure size 432x288 with 1 Axes>"
      ]
     },
     "metadata": {
      "needs_background": "light"
     },
     "output_type": "display_data"
    },
    {
     "data": {
      "image/png": "[encoded data removed]",
      "text/plain": [
       "<Figure size 432x288 with 1 Axes>"
      ]
     },
     "metadata": {
      "needs_background": "light"
     },
     "output_type": "display_data"
    },
    {
     "data": {
      "image/png": "[encoded data removed]",
      "text/plain": [
       "<Figure size 432x288 with 1 Axes>"
      ]
     },
     "metadata": {
      "needs_background": "light"
     },
     "output_type": "display_data"
    },
    {
     "data": {
      "image/png": "[encoded data removed]",
      "text/plain": [
       "<Figure size 432x288 with 1 Axes>"
      ]
     },
     "metadata": {
      "needs_background": "light"
     },
     "output_type": "display_data"
    },
    {
     "data": {
      "image/png": "[encoded data removed]",
      "text/plain": [
       "<Figure size 432x288 with 1 Axes>"
      ]
     },
     "metadata": {
      "needs_background": "light"
     },
     "output_type": "display_data"
    },
    {
     "data": {
      "image/png": "[encoded data removed]",
      "text/plain": [
       "<Figure size 432x288 with 1 Axes>"
      ]
     },
     "metadata": {
      "needs_background": "light"
     },
     "output_type": "display_data"
    },
    {
     "data": {
      "image/png": "[encoded data removed]",
      "text/plain": [
       "<Figure size 432x288 with 1 Axes>"
      ]
     },
     "metadata": {
      "needs_background": "light"
     },
     "output_type": "display_data"
    },
    {
     "data": {
      "image/png": "[encoded data removed]",
      "text/plain": [
       "<Figure size 432x288 with 1 Axes>"
      ]
     },
     "metadata": {
      "needs_background": "light"
     },
     "output_type": "display_data"
    },
    {
     "data": {
      "image/png": "[encoded data removed]",
      "text/plain": [
       "<Figure size 432x288 with 1 Axes>"
      ]
     },
     "metadata": {
      "needs_background": "light"
     },
     "output_type": "display_data"
    },
    {
     "data": {
      "image/png": "[encoded data removed]",
      "text/plain": [
       "<Figure size 432x288 with 1 Axes>"
      ]
     },
     "metadata": {
      "needs_background": "light"
     },
     "output_type": "display_data"
    },
    {
     "data": {
      "image/png": "[encoded data removed]",
      "text/plain": [
       "<Figure size 432x288 with 1 Axes>"
      ]
     },
     "metadata": {
      "needs_background": "light"
     },
     "output_type": "display_data"
    },
    {
     "data": {
      "image/png": "[encoded data removed]",
      "text/plain": [
       "<Figure size 432x288 with 1 Axes>"
      ]
     },
     "metadata": {
      "needs_background": "light"
     },
     "output_type": "display_data"
    },
    {
     "data": {
      "image/png": "[encoded data removed]",
      "text/plain": [
       "<Figure size 432x288 with 1 Axes>"
      ]
     },
     "metadata": {
      "needs_background": "light"
     },
     "output_type": "display_data"
    }
   ],
   "source": [
    "for i in df_filter:\n",
    "    plt.figure()\n",
    "    df_filter.boxplot([i])"
   ]
  },
  {
   "cell_type": "markdown",
   "id": "9a633aab",
   "metadata": {},
   "source": [
    "# Linear Regression model implimentation"
   ]
  },
  {
   "cell_type": "code",
   "execution_count": 30,
   "id": "f817d4d2",
   "metadata": {},
   "outputs": [],
   "source": [
    "import numpy as np\n",
    "import pandas as pd\n",
    "from sklearn.linear_model import LinearRegression\n",
    "from sklearn.metrics import r2_score,mean_squared_error\n",
    "from math import sqrt"
   ]
  },
  {
   "cell_type": "code",
   "execution_count": 31,
   "id": "a1c5b8ce",
   "metadata": {},
   "outputs": [],
   "source": [
    "x = df.drop('left' ,axis = 1)\n",
    "y = df.left"
   ]
  },
  {
   "cell_type": "code",
   "execution_count": 32,
   "id": "69d2b9ac",
   "metadata": {},
   "outputs": [
    {
     "data": {
      "text/plain": [
       "(14999,)"
      ]
     },
     "execution_count": 32,
     "metadata": {},
     "output_type": "execute_result"
    }
   ],
   "source": [
    "y.shape"
   ]
  },
  {
   "cell_type": "code",
   "execution_count": 33,
   "id": "afcfa246",
   "metadata": {},
   "outputs": [
    {
     "data": {
      "text/plain": [
       "Index(['satisfaction_level', 'last_evaluation', 'number_project',\n",
       "       'average_montly_hours', 'time_spend_company', 'Work_accident',\n",
       "       'promotion_last_5years', 'Department_IT', 'Department_RandD',\n",
       "       'Department_accounting', 'Department_hr', 'Department_management',\n",
       "       'Department_marketing', 'Department_product_mng', 'Department_sales',\n",
       "       'Department_support', 'Department_technical', 'salary_high',\n",
       "       'salary_low', 'salary_medium'],\n",
       "      dtype='object')"
      ]
     },
     "execution_count": 33,
     "metadata": {},
     "output_type": "execute_result"
    }
   ],
   "source": [
    "x.columns"
   ]
  },
  {
   "cell_type": "code",
   "execution_count": 34,
   "id": "efc447a9",
   "metadata": {},
   "outputs": [],
   "source": [
    "from sklearn import model_selection\n",
    "xtrain,xtest,ytrain,ytest = model_selection.train_test_split(x,y,test_size=0.3,random_state=42)"
   ]
  },
  {
   "cell_type": "code",
   "execution_count": 35,
   "id": "0e5336d4",
   "metadata": {},
   "outputs": [],
   "source": [
    "from sklearn import model_selection\n",
    "xtrain,xtest,ytrain,ytest = model_selection.train_test_split(x,y,test_size =0.25,random_state=42)"
   ]
  },
  {
   "cell_type": "code",
   "execution_count": 36,
   "id": "d14b0b9b",
   "metadata": {},
   "outputs": [
    {
     "name": "stdout",
     "output_type": "stream",
     "text": [
      "6723     0\n",
      "6473     0\n",
      "4679     0\n",
      "862      1\n",
      "7286     0\n",
      "        ..\n",
      "10371    0\n",
      "12541    1\n",
      "2656     0\n",
      "6759     0\n",
      "13564    0\n",
      "Name: left, Length: 3750, dtype: int64\n"
     ]
    }
   ],
   "source": [
    "print(ytest)"
   ]
  },
  {
   "cell_type": "code",
   "execution_count": 37,
   "id": "0c4cb9dd",
   "metadata": {},
   "outputs": [],
   "source": [
    "lin = LinearRegression()"
   ]
  },
  {
   "cell_type": "code",
   "execution_count": 38,
   "id": "29705fae",
   "metadata": {},
   "outputs": [
    {
     "name": "stdout",
     "output_type": "stream",
     "text": [
      "[-6.52260504e-01  8.52672992e-02 -3.17543828e-02  6.55188944e-04\n",
      "  3.54062359e-02 -1.51943232e-01 -1.09127834e-01 -9.97053418e-03\n",
      " -7.44553913e-02  9.05634913e-03  4.97875621e-02 -4.72593245e-02\n",
      "  1.99737212e-02 -1.25265168e-04  1.24559599e-02  1.65236829e-02\n",
      "  2.40132400e-02 -1.05999634e-01  8.97626226e-02  1.62370114e-02]\n",
      "0.4169021420350112\n"
     ]
    }
   ],
   "source": [
    "lin.fit(xtrain,ytrain)\n",
    "print(lin.coef_)\n",
    "print(lin.intercept_)"
   ]
  },
  {
   "cell_type": "code",
   "execution_count": 39,
   "id": "4defbc91",
   "metadata": {},
   "outputs": [
    {
     "name": "stdout",
     "output_type": "stream",
     "text": [
      "0.37985150416795527\n",
      "0.20714088794350138\n"
     ]
    }
   ],
   "source": [
    "predictions = lin.predict(xtest)\n",
    "print(sqrt(mean_squared_error(ytest, predictions)))\n",
    "r2_score = lin.score(xtest,ytest)\n",
    "print(r2_score)"
   ]
  },
  {
   "cell_type": "code",
   "execution_count": 40,
   "id": "9b1727c9",
   "metadata": {},
   "outputs": [
    {
     "name": "stdout",
     "output_type": "stream",
     "text": [
      "                               0         1\n",
      "Intercept               0.266525  0.317936\n",
      "satisfaction_level     -0.669082 -0.618853\n",
      "last_evaluation         0.047953  0.126646\n",
      "number_project         -0.039756 -0.028344\n",
      "average_montly_hours    0.000504  0.000778\n",
      "time_spend_company      0.032150  0.040739\n",
      "Work_accident          -0.172650 -0.138189\n",
      "promotion_last_5years  -0.154607 -0.069396\n",
      "Department_IT          -0.001991  0.038897\n",
      "Department_RandD       -0.056259 -0.006452\n",
      "Department_accounting   0.018768  0.069066\n",
      "Department_hr           0.052939  0.104096\n",
      "Department_management  -0.046961  0.010093\n",
      "Department_marketing    0.017562  0.065427\n",
      "Department_product_mng -0.003592  0.043230\n",
      "Department_sales        0.026061  0.051425\n",
      "Department_support      0.033897  0.065801\n",
      "Department_technical    0.036462  0.065990\n",
      "salary_high            -0.027378  0.009293\n",
      "salary_low              0.177787  0.202032\n",
      "salary_medium           0.098879  0.123847\n",
      "                            OLS Regression Results                            \n",
      "==============================================================================\n",
      "Dep. Variable:                   left   R-squared:                       0.215\n",
      "Model:                            OLS   Adj. R-squared:                  0.215\n",
      "Method:                 Least Squares   F-statistic:                     228.6\n",
      "Date:                Sun, 03 Apr 2022   Prob (F-statistic):               0.00\n",
      "Time:                        20:20:22   Log-Likelihood:                -6660.5\n",
      "No. Observations:               14999   AIC:                         1.336e+04\n",
      "Df Residuals:                   14980   BIC:                         1.350e+04\n",
      "Df Model:                          18                                         \n",
      "Covariance Type:            nonrobust                                         \n",
      "==========================================================================================\n",
      "                             coef    std err          t      P>|t|      [0.025      0.975]\n",
      "------------------------------------------------------------------------------------------\n",
      "Intercept                  0.2922      0.013     22.283      0.000       0.267       0.318\n",
      "satisfaction_level        -0.6440      0.013    -50.260      0.000      -0.669      -0.619\n",
      "last_evaluation            0.0873      0.020      4.349      0.000       0.048       0.127\n",
      "number_project            -0.0341      0.003    -11.696      0.000      -0.040      -0.028\n",
      "average_montly_hours       0.0006   6.98e-05      9.187      0.000       0.001       0.001\n",
      "time_spend_company         0.0364      0.002     16.634      0.000       0.032       0.041\n",
      "Work_accident             -0.1554      0.009    -17.680      0.000      -0.173      -0.138\n",
      "promotion_last_5years     -0.1120      0.022     -5.153      0.000      -0.155      -0.069\n",
      "Department_IT              0.0185      0.010      1.769      0.077      -0.002       0.039\n",
      "Department_RandD          -0.0314      0.013     -2.468      0.014      -0.056      -0.006\n",
      "Department_accounting      0.0439      0.013      3.423      0.001       0.019       0.069\n",
      "Department_hr              0.0785      0.013      6.017      0.000       0.053       0.104\n",
      "Department_management     -0.0184      0.015     -1.267      0.205      -0.047       0.010\n",
      "Department_marketing       0.0415      0.012      3.399      0.001       0.018       0.065\n",
      "Department_product_mng     0.0198      0.012      1.659      0.097      -0.004       0.043\n",
      "Department_sales           0.0387      0.006      5.988      0.000       0.026       0.051\n",
      "Department_support         0.0498      0.008      6.125      0.000       0.034       0.066\n",
      "Department_technical       0.0512      0.008      6.801      0.000       0.036       0.066\n",
      "salary_high               -0.0090      0.009     -0.967      0.334      -0.027       0.009\n",
      "salary_low                 0.1899      0.006     30.707      0.000       0.178       0.202\n",
      "salary_medium              0.1114      0.006     17.486      0.000       0.099       0.124\n",
      "==============================================================================\n",
      "Omnibus:                     1305.185   Durbin-Watson:                   0.395\n",
      "Prob(Omnibus):                  0.000   Jarque-Bera (JB):             1560.771\n",
      "Skew:                           0.768   Prob(JB):                         0.00\n",
      "Kurtosis:                       2.629   Cond. No.                     1.52e+18\n",
      "==============================================================================\n",
      "\n",
      "Notes:\n",
      "[1] Standard Errors assume that the covariance matrix of the errors is correctly specified.\n",
      "[2] The smallest eigenvalue is 2.8e-28. This might indicate that there are\n",
      "strong multicollinearity problems or that the design matrix is singular.\n"
     ]
    }
   ],
   "source": [
    "#from sklearn import metrics\n",
    "#from sklearn.metrics import accuracy_score\n",
    "import statsmodels.formula.api as smf\n",
    "lm = smf.ols(formula='left ~ satisfaction_level + last_evaluation + number_project + average_montly_hours + time_spend_company + Work_accident ++ promotion_last_5years + Department_IT + Department_RandD ++Department_accounting + Department_hr + Department_management + Department_marketing + Department_product_mng + Department_sales + Department_support + Department_technical + salary_high ++ salary_low + salary_medium', data=df).fit()\n",
    "print(lm.conf_int())\n",
    "print(lm.summary())"
   ]
  },
  {
   "cell_type": "code",
   "execution_count": 41,
   "id": "89cac90a",
   "metadata": {},
   "outputs": [],
   "source": [
    "#metrics.accuracy_score(ytest,lin.predict(xtest))"
   ]
  },
  {
   "cell_type": "code",
   "execution_count": 42,
   "id": "013cf062",
   "metadata": {},
   "outputs": [
    {
     "name": "stdout",
     "output_type": "stream",
     "text": [
      "0.37644577594584033\n",
      "0.3798505354057006\n",
      "R2 Value/Coefficient of Determination: 0.20714493210809293\n"
     ]
    }
   ],
   "source": [
    "from sklearn.linear_model import Ridge\n",
    "ridgeReg = Ridge(alpha=0.001, normalize=True)\n",
    "ridgeReg.fit(xtrain,ytrain)\n",
    "print(sqrt(mean_squared_error(ytrain, ridgeReg.predict(xtrain))))\n",
    "print(sqrt(mean_squared_error(ytest, ridgeReg.predict(xtest))))\n",
    "print('R2 Value/Coefficient of Determination: {}'.format(ridgeReg.score(xtest, ytest)))"
   ]
  },
  {
   "cell_type": "code",
   "execution_count": 43,
   "id": "e020d0f1",
   "metadata": {},
   "outputs": [
    {
     "name": "stdout",
     "output_type": "stream",
     "text": [
      "0.4051490670638493\n",
      "0.40783371856333234\n",
      "R2 Value/Coefficient of Determination: 0.086024447525338\n"
     ]
    }
   ],
   "source": [
    "from sklearn.linear_model import Lasso\n",
    "lassoreg = Lasso(alpha=0.001, normalize=True)\n",
    "lassoreg.fit(xtrain, ytrain)\n",
    "\n",
    "print(sqrt(mean_squared_error(ytrain, lassoreg.predict(xtrain))))\n",
    "print(sqrt(mean_squared_error(ytest, lassoreg.predict(xtest))))\n",
    "print('R2 Value/Coefficient of Determination: {}'.format(lassoreg.score(xtest, ytest)))"
   ]
  },
  {
   "cell_type": "code",
   "execution_count": 44,
   "id": "a8e08566",
   "metadata": {},
   "outputs": [
    {
     "name": "stdout",
     "output_type": "stream",
     "text": [
      "0.4187310881420178\n",
      "0.42009525799358577\n",
      "R2 Value/Coefficient of Determination: 0.03024086494118272\n"
     ]
    }
   ],
   "source": [
    "from sklearn.linear_model import ElasticNet\n",
    "Elas = ElasticNet(alpha=0.001, normalize=True)\n",
    "Elas.fit(xtrain, ytrain)\n",
    "\n",
    "print(sqrt(mean_squared_error(ytrain, Elas.predict(xtrain))))\n",
    "print(sqrt(mean_squared_error(ytest, Elas.predict(xtest))))\n",
    "print('R2 Value/Coefficient of Determination: {}'.format(Elas.score(xtest, ytest)))"
   ]
  },
  {
   "cell_type": "markdown",
   "id": "8c6eb48f",
   "metadata": {},
   "source": [
    "## Since the Linear Regression model is not a good predictor,so we will use logistic regression."
   ]
  },
  {
   "cell_type": "code",
   "execution_count": 45,
   "id": "c2bf9930",
   "metadata": {},
   "outputs": [],
   "source": [
    "# import libraries for model validation\n",
    "from sklearn.linear_model import LogisticRegression\n",
    "from sklearn.model_selection import train_test_split\n",
    "\n",
    "# import libraries for metrics and reporting\n",
    "from sklearn.metrics import confusion_matrix\n",
    "from sklearn.metrics import classification_report\n",
    "from sklearn.metrics import accuracy_score\n",
    "from sklearn.metrics import precision_score\n",
    "from sklearn.metrics import recall_score\n",
    "from sklearn.metrics import f1_score\n",
    "from sklearn import metrics\n",
    "from sklearn.metrics import classification_report"
   ]
  },
  {
   "cell_type": "code",
   "execution_count": 46,
   "id": "2c67e9bf",
   "metadata": {},
   "outputs": [],
   "source": [
    "LogReg = LogisticRegression()"
   ]
  },
  {
   "cell_type": "code",
   "execution_count": 47,
   "id": "0802ec49",
   "metadata": {},
   "outputs": [
    {
     "data": {
      "text/plain": [
       "LogisticRegression()"
      ]
     },
     "execution_count": 47,
     "metadata": {},
     "output_type": "execute_result"
    }
   ],
   "source": [
    "LogReg.fit(xtrain, ytrain)"
   ]
  },
  {
   "cell_type": "code",
   "execution_count": 48,
   "id": "28bfc98a",
   "metadata": {},
   "outputs": [],
   "source": [
    "y_pred = LogReg.predict(xtest)"
   ]
  },
  {
   "cell_type": "code",
   "execution_count": 49,
   "id": "cb7f8074",
   "metadata": {},
   "outputs": [
    {
     "data": {
      "text/plain": [
       "array([[2643,  210],\n",
       "       [ 581,  316]], dtype=int64)"
      ]
     },
     "execution_count": 49,
     "metadata": {},
     "output_type": "execute_result"
    }
   ],
   "source": [
    "metrics.confusion_matrix(ytest, y_pred)"
   ]
  },
  {
   "cell_type": "code",
   "execution_count": 50,
   "id": "edc7785e",
   "metadata": {},
   "outputs": [
    {
     "data": {
      "text/plain": [
       "0.7890666666666667"
      ]
     },
     "execution_count": 50,
     "metadata": {},
     "output_type": "execute_result"
    }
   ],
   "source": [
    "metrics.accuracy_score(ytest, y_pred)"
   ]
  },
  {
   "cell_type": "code",
   "execution_count": 51,
   "id": "156c16c3",
   "metadata": {},
   "outputs": [
    {
     "data": {
      "text/plain": [
       "3750"
      ]
     },
     "execution_count": 51,
     "metadata": {},
     "output_type": "execute_result"
    }
   ],
   "source": [
    "len(xtest)"
   ]
  },
  {
   "cell_type": "code",
   "execution_count": 52,
   "id": "f917ec0e",
   "metadata": {},
   "outputs": [
    {
     "name": "stdout",
     "output_type": "stream",
     "text": [
      "              precision    recall  f1-score   support\n",
      "\n",
      "           0       0.82      0.93      0.87      2853\n",
      "           1       0.60      0.35      0.44       897\n",
      "\n",
      "    accuracy                           0.79      3750\n",
      "   macro avg       0.71      0.64      0.66      3750\n",
      "weighted avg       0.77      0.79      0.77      3750\n",
      "\n"
     ]
    }
   ],
   "source": [
    "print(classification_report(ytest, y_pred))"
   ]
  },
  {
   "cell_type": "code",
   "execution_count": 53,
   "id": "16116be6",
   "metadata": {},
   "outputs": [
    {
     "data": {
      "text/plain": [
       "array([[-4.21687755,  0.54499924, -0.30850852,  0.00489765,  0.25442541,\n",
       "        -1.46395153, -0.8354734 , -0.06557621, -0.67080278,  0.04858433,\n",
       "         0.35358858, -0.36273199,  0.12741293,  0.01634935,  0.08462229,\n",
       "         0.07041877,  0.14277207, -1.25795237,  0.75242365,  0.25016606]])"
      ]
     },
     "execution_count": 53,
     "metadata": {},
     "output_type": "execute_result"
    }
   ],
   "source": [
    "LogReg.coef_"
   ]
  },
  {
   "cell_type": "code",
   "execution_count": 54,
   "id": "fc94a263",
   "metadata": {},
   "outputs": [
    {
     "data": {
      "text/plain": [
       "array([-0.27792491])"
      ]
     },
     "execution_count": 54,
     "metadata": {},
     "output_type": "execute_result"
    }
   ],
   "source": [
    "LogReg.intercept_"
   ]
  },
  {
   "cell_type": "markdown",
   "id": "36112bab",
   "metadata": {},
   "source": [
    "- The model shows good accuracy and and hence. This model is a good predictor."
   ]
  }
 ],
 "metadata": {
  "kernelspec": {
   "display_name": "Python 3 (ipykernel)",
   "language": "python",
   "name": "python3"
  },
  "language_info": {
   "codemirror_mode": {
    "name": "ipython",
    "version": 3
   },
   "file_extension": ".py",
   "mimetype": "text/x-python",
   "name": "python",
   "nbconvert_exporter": "python",
   "pygments_lexer": "ipython3",
   "version": "3.9.7"
  }
 },
 "nbformat": 4,
 "nbformat_minor": 5
}
